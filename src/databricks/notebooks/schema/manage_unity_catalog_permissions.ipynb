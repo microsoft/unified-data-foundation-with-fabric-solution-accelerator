{
 "cells": [
  {
   "cell_type": "markdown",
   "metadata": {
    "application/vnd.databricks.v1+cell": {
     "cellMetadata": {
      "byteLimit": 2048000,
      "rowLimit": 10000
     },
     "inputWidgets": {},
     "nuid": "def9caf1-7ecf-4b16-967d-47029edf8a21",
     "showTitle": false,
     "tableResultSettingsMap": {},
     "title": ""
    }
   },
   "source": [
    "# Grant All Privileges and External Use Schema\n",
    "\n",
    "This notebook grants ALL PRIVILEGES and external use permissions at the catalog, schema, and table level to the user executing the notebook."
   ]
  },
  {
   "cell_type": "code",
   "execution_count": 0,
   "metadata": {
    "application/vnd.databricks.v1+cell": {
     "cellMetadata": {
      "byteLimit": 2048000,
      "rowLimit": 10000
     },
     "inputWidgets": {},
     "nuid": "4965a4cc-f146-4717-93f6-91b7505a6227",
     "showTitle": false,
     "tableResultSettingsMap": {},
     "title": ""
    }
   },
   "outputs": [],
   "source": [
    "# Set widgets for catalog, schema, and principal (current user)\n",
    "dbutils.widgets.text(\"catalog_name\", \"\")\n",
    "dbutils.widgets.text(\"schema_name\", \"\")\n",
    "\n",
    "# Get current user as principal\n",
    "def get_current_user():\n",
    "    import os\n",
    "    try:\n",
    "        return spark.sql(\"SELECT current_user()\").collect()[0][0]\n",
    "    except Exception:\n",
    "        return os.environ.get(\"USER\", \"\")\n",
    "\n",
    "catalog = dbutils.widgets.get(\"catalog_name\")\n",
    "schema = dbutils.widgets.get(\"schema_name\")\n",
    "principal = get_current_user()\n",
    "print(f\"Granting permissions to principal: {principal}\")"
   ]
  },
  {
   "cell_type": "code",
   "execution_count": 0,
   "metadata": {
    "application/vnd.databricks.v1+cell": {
     "cellMetadata": {
      "byteLimit": 2048000,
      "rowLimit": 10000
     },
     "inputWidgets": {},
     "nuid": "0ff262f2-175c-4c27-bf72-f7797d5f7bcf",
     "showTitle": false,
     "tableResultSettingsMap": {},
     "title": ""
    }
   },
   "outputs": [],
   "source": [
    "# Grant all privileges and external use at catalog and schema level\n",
    "\n",
    "# catalog privileges\n",
    "spark.sql(f\"GRANT ALL PRIVILEGES ON CATALOG `{catalog}` TO `{principal}`\")\n",
    "spark.sql(f\"GRANT USAGE ON CATALOG `{catalog}` TO `{principal}`\")\n",
    "spark.sql(f\"GRANT EXTERNAL USE SCHEMA ON CATALOG `{catalog}` TO `{principal}`\")\n",
    "\n",
    "# schema privileges\n",
    "spark.sql(f\"GRANT ALL PRIVILEGES ON SCHEMA `{catalog}`.`{schema}` TO `{principal}`\")\n",
    "spark.sql(f\"GRANT USAGE ON SCHEMA `{catalog}`.`{schema}` TO `{principal}`\")\n",
    "spark.sql(f\"GRANT EXTERNAL USE SCHEMA ON SCHEMA `{catalog}`.`{schema}` TO `{principal}`\")\n",
    "\n",
    "print(f\"Granted catalog and schema permissions to {principal}\")"
   ]
  },
  {
   "cell_type": "code",
   "execution_count": 0,
   "metadata": {
    "application/vnd.databricks.v1+cell": {
     "cellMetadata": {
      "byteLimit": 2048000,
      "rowLimit": 10000
     },
     "inputWidgets": {},
     "nuid": "10d738dd-57cd-4940-a06c-cda512bb8734",
     "showTitle": false,
     "tableResultSettingsMap": {},
     "title": ""
    }
   },
   "outputs": [],
   "source": [
    "# Grant all privileges on all tables in the schema to the principal\n",
    "tables = [row.tableName for row in spark.sql(f\"SHOW TABLES IN `{catalog}`.`{schema}`\").collect()]\n",
    "for table in tables:\n",
    "    spark.sql(f\"GRANT ALL PRIVILEGES ON TABLE `{catalog}`.`{schema}`.`{table}` TO `{principal}`\")\n",
    "    print(f\"Granted all privileges on table {catalog}.{schema}.{table} to {principal}\")"
   ]
  }
 ],
 "metadata": {
  "application/vnd.databricks.v1+notebook": {
   "computePreferences": null,
   "dashboards": [],
   "environmentMetadata": null,
   "inputWidgetPreferences": null,
   "language": "python",
   "notebookMetadata": {
    "pythonIndentUnit": 4
   },
   "notebookName": "permission_adb",
   "widgets": {
    "catalog_name": {
     "currentValue": "ctg_um",
     "nuid": "12d85b9a-a642-41b2-8bc1-3c8fd3325f95",
     "typedWidgetInfo": {
      "autoCreated": false,
      "defaultValue": "ctg_um",
      "label": null,
      "name": "catalog_name",
      "options": {
       "validationRegex": null,
       "widgetDisplayType": "Text"
      },
      "parameterDataType": "String"
     },
     "widgetInfo": {
      "defaultValue": "ctg_um",
      "label": null,
      "name": "catalog_name",
      "options": {
       "autoCreated": null,
       "validationRegex": null,
       "widgetType": "text"
      },
      "widgetType": "text"
     }
    },
    "schema_name": {
     "currentValue": "sales_um",
     "nuid": "ba32a0ba-d7a7-4b28-9d6a-0bbfd57c9afc",
     "typedWidgetInfo": {
      "autoCreated": false,
      "defaultValue": "sales_um",
      "label": null,
      "name": "schema_name",
      "options": {
       "validationRegex": null,
       "widgetDisplayType": "Text"
      },
      "parameterDataType": "String"
     },
     "widgetInfo": {
      "defaultValue": "sales_um",
      "label": null,
      "name": "schema_name",
      "options": {
       "autoCreated": null,
       "validationRegex": null,
       "widgetType": "text"
      },
      "widgetType": "text"
     }
    }
   }
  },
  "language_info": {
   "name": "python"
  }
 },
 "nbformat": 4,
 "nbformat_minor": 0
}
