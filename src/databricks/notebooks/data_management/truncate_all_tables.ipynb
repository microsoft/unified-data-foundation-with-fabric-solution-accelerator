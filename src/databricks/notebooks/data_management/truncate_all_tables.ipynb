{
 "cells": [
  {
   "cell_type": "markdown",
   "id": "3145b7b4",
   "metadata": {},
   "source": [
    "# Truncate All Tables in Selected Schemas\n",
    "This notebook truncates (removes all rows from) tables in the schema `sales` if they exist."
   ]
  },
  {
   "cell_type": "code",
   "execution_count": null,
   "id": "1360c99e",
   "metadata": {},
   "outputs": [],
   "source": [
    "# Use widgets for catalog and schema selection (Databricks UI/job configurable)\n",
    "dbutils.widgets.text('catalog_name', 'maag_adb2')\n",
    "dbutils.widgets.text('schema_name', 'sales')\n",
    "CATALOG_NAME = dbutils.widgets.get('catalog_name')\n",
    "SCHEMA_NAME = dbutils.widgets.get('schema_name')\n",
    "\n",
    "\n",
    "# Truncate tables in the selected schema if they exist (Databricks version)\n",
    "def truncate_tables(catalog_name, schema_name, tables):\n",
    "    try:\n",
    "        existing_tables = set(spark.sql(f\"SHOW TABLES IN {catalog_name}.{schema_name}\").select('tableName').rdd.flatMap(lambda x: x).collect())\n",
    "    except Exception as e:\n",
    "        print(f\"⚠️ Schema {catalog_name}.{schema_name} not found. Skipping all tables in this schema.\")\n",
    "        return\n",
    "    for table in tables:\n",
    "        full_table = f\"{catalog_name}.{schema_name}.{table}\"\n",
    "        if table in existing_tables:\n",
    "            print(f\"🔨 Truncating {full_table} ...\")\n",
    "            try:\n",
    "                spark.sql(f\"TRUNCATE TABLE {full_table}\")\n",
    "                print(f\"✅ {full_table} truncated!\")\n",
    "            except Exception as e:\n",
    "                print(f\"⚠️ Could not truncate {full_table}: {e}\")\n",
    "        else:\n",
    "            print(f\"⚠️ Table {full_table} does not exist. Skipping.\")\n",
    "\n",
    "\n",
    "# Define tables to truncate in the selected schema\n",
    "tables = [\"order\", \"orderline\", \"orderpayment\"]\n",
    "\n",
    "\n",
    "# Truncate all tables in the selected schema\n",
    "print(f\"\\n--- Truncating tables in schema: {CATALOG_NAME}.{SCHEMA_NAME} ---\")\n",
    "truncate_tables(CATALOG_NAME, SCHEMA_NAME, tables)\n",
    "\n",
    "\n",
    "print(f\"\\n🎉 ALL SELECTED TABLES TRUNCATED in {CATALOG_NAME}.{SCHEMA_NAME}!\")"
   ]
  }
 ],
 "metadata": {
  "language_info": {
   "name": "python"
  }
 },
 "nbformat": 4,
 "nbformat_minor": 5
}
