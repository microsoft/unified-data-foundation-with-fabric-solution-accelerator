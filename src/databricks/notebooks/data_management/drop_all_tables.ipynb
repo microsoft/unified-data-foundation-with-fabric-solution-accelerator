{
 "cells": [
  {
   "cell_type": "markdown",
   "id": "efa19a42",
   "metadata": {},
   "source": [
    "# Drop All Tables in Databricks Catalog\n",
    "This notebook drops all tables in the specified schema for Databricks."
   ]
  },
  {
   "cell_type": "code",
   "execution_count": null,
   "id": "1470ed8e",
   "metadata": {},
   "outputs": [],
   "source": [
    "dbutils.widgets.text('catalog_name', 'maag_adb2')\n",
    "dbutils.widgets.text('schema_name', 'sales')\n",
    "CATALOG_NAME = dbutils.widgets.get('catalog_name')\n",
    "SCHEMA_NAME = dbutils.widgets.get('schema_name')\n",
    "\n",
    "# Try to list all tables in the schema, handle missing schema\n",
    "try:\n",
    "    tables = [row.tableName for row in spark.sql(f'SHOW TABLES IN {CATALOG_NAME}.{SCHEMA_NAME}').collect()]\n",
    "except Exception as e:\n",
    "    print(f'⚠️ Schema {CATALOG_NAME}.{SCHEMA_NAME} not found. No tables to drop.')\n",
    "    tables = []\n",
    "\n",
    "for table in tables:\n",
    "    try:\n",
    "        spark.sql(f'DROP TABLE IF EXISTS {CATALOG_NAME}.{SCHEMA_NAME}.{table}')\n",
    "        print(f'Dropped: {CATALOG_NAME}.{SCHEMA_NAME}.{table}')\n",
    "    except Exception as e:\n",
    "        print(f'⚠️ Could not drop {CATALOG_NAME}.{SCHEMA_NAME}.{table}: {e}')\n",
    "\n",
    "print(f'✅ All tables dropped (if any) in {CATALOG_NAME}.{SCHEMA_NAME}')"
   ]
  }
 ],
 "metadata": {
  "language_info": {
   "name": "python"
  }
 },
 "nbformat": 4,
 "nbformat_minor": 5
}
