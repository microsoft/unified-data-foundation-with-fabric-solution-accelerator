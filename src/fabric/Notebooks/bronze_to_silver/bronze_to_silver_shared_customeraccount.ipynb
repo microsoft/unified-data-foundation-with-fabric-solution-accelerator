{
 "cells": [
  {
   "cell_type": "markdown",
   "id": "371c516c",
   "metadata": {},
   "source": [
    "# Load Bronze Data to Silver Table - CustomerAccount\n",
    "\n",
    "## Overview\n",
    "Load CustomerAccount sample data from Bronze lakehouse files into Silver lakehouse table.\n",
    "\n",
    "## Data Flow\n",
    "- **Source**: Bronze Lakehouse /Files/samples_fabric/shared/CustomerAccount_Samples.csv\n",
    "- **Target**: Silver Lakehouse shared.CustomerAccount table (Delta table)\n",
    "- **Process**: Read CSV, validate schema, load to Delta table\n",
    "\n",
    "---"
   ]
  },
  {
   "cell_type": "code",
   "execution_count": null,
   "id": "bf369cca",
   "metadata": {
    "microsoft": {
     "language": "python",
     "language_group": "synapse_pyspark"
    }
   },
   "outputs": [],
   "source": [
    "# Step 1 Import Libraries and Set up Source Path \n",
    "\n",
    "import pandas as pd\n",
    "from pyspark.sql import SparkSession\n",
    "from pyspark.sql.types import *\n",
    "from pyspark.sql.functions import col, sum as spark_sum\n",
    "import os\n",
    "\n",
    "# Configuration - Using correct Fabric cross-lakehouse path from Fabric portal\n",
    "WORKSPACE_NAME = \"Fabric_MAAG\"\n",
    "SOURCE_LAKEHOUSE_NAME = \"maag_bronze\"\n",
    "SOURCE_PATH = f\"abfss://{WORKSPACE_NAME}@onelake.dfs.fabric.microsoft.com/{SOURCE_LAKEHOUSE_NAME}.Lakehouse/Files/samples_fabric/shared/CustomerAccount_Samples.csv\"\n",
    "\n",
    "TARGET_SCHEMA = \"shared\"\n",
    "TARGET_TABLE = \"CustomerAccount\"\n",
    "TARGET_FULL_PATH = f\"{TARGET_SCHEMA}.{TARGET_TABLE}\"\n",
    "\n",
    "print(f\"🔄 Loading CustomerAccount data\")\n",
    "print(f\"📂 Source: {SOURCE_PATH}\")\n",
    "print(f\"🎯 Target: {TARGET_FULL_PATH}\")\n",
    "\n",
    "# Read CSV from Bronze lakehouse\n",
    "df = spark.read.option(\"header\", \"true\").option(\"inferSchema\", \"true\").csv(SOURCE_PATH)\n",
    "\n",
    "print(f\"✅ Data loaded successfully\")\n",
    "print(f\"📊 Records: {df.count()}\")\n",
    "print(f\"📋 Columns: {df.columns}\")\n",
    "\n",
    "# Display sample data\n",
    "print(f\"\\n📖 Sample data:\")\n",
    "df.show(10, truncate=False)"
   ]
  },
  {
   "cell_type": "code",
   "execution_count": null,
   "id": "8565a794",
   "metadata": {
    "microsoft": {
     "language": "python",
     "language_group": "synapse_pyspark"
    }
   },
   "outputs": [],
   "source": [
    "# Step 2: Validate and conform to target schema\n",
    "\n",
    "print(f\"🔍 Validating data quality...\")\n",
    "\n",
    "# Required columns from Model_Shared_Data.ipynb CustomerAccount table\n",
    "required_columns = [\n",
    "    \"CustomerAccountId\", \"ParentAccountId\", \"CustomerAccountName\", \"CustomerId\", \"IsoCurrencyCode\", \"UpdatedBy\"\n",
    "]\n",
    "\n",
    "# Only add/populate UpdatedBy if missing\n",
    "from pyspark.sql import functions as F\n",
    "if \"UpdatedBy\" not in df.columns:\n",
    "    df = df.withColumn(\"UpdatedBy\", F.lit(\"Source_Data_Loader\"))\n",
    "    print(\"✅ Added UpdatedBy column with value 'Source_Data_Loader'.\")\n",
    "\n",
    "print(f\"✅ Schema reference (required_columns) retained for documentation/model awareness.\")\n",
    "\n",
    "missing_columns = [c for c in required_columns if c not in df.columns]\n",
    "if missing_columns:\n",
    "    print(f\"⚠️ Warning: Missing columns in source data: {missing_columns}\")\n",
    "else:\n",
    "    print(f\"✅ All required columns present in source data.\")\n",
    "\n",
    "print(f\"✅ Schema validation complete (no error raised for missing columns).\")\n",
    "\n",
    "# Data quality checks\n",
    "null_counts = df.select([spark_sum(col(c).isNull().cast(\"int\")).alias(c) for c in df.columns]).collect()[0]\n",
    "print(f\"\\n📊 Data Quality Check:\")\n",
    "for col_name in df.columns:\n",
    "    null_count = null_counts[col_name]\n",
    "    if null_count > 0:\n",
    "        print(f\"  {col_name}: {null_count} null values\")\n",
    "    else:\n",
    "        print(f\"  {col_name}: ✅ No nulls\")\n",
    "\n",
    "# Show value distributions for CustomerAccountId\n",
    "print(f\"\\n🎯 CustomerAccountId Distribution:\")\n",
    "df.groupBy(\"CustomerAccountId\").count().orderBy(\"CustomerAccountId\").show()"
   ]
  },
  {
   "cell_type": "code",
   "execution_count": null,
   "id": "c636e542",
   "metadata": {
    "microsoft": {
     "language": "python",
     "language_group": "synapse_pyspark"
    }
   },
   "outputs": [],
   "source": [
    "# Step 3: Load data to Silver table\n",
    "\n",
    "print(f\"💾 Loading data to Silver table: {TARGET_FULL_PATH}\")\n",
    "\n",
    "try:\n",
    "    df.write \\\n",
    "      .format(\"delta\") \\\n",
    "      .mode(\"overwrite\") \\\n",
    "      .option(\"overwriteSchema\", \"true\") \\\n",
    "      .saveAsTable(TARGET_FULL_PATH)\n",
    "\n",
    "    print(f\"✅ Data loaded successfully to {TARGET_FULL_PATH}\")\n",
    "\n",
    "    # Verify the load\n",
    "    result_count = spark.sql(f\"SELECT COUNT(*) as count FROM {TARGET_FULL_PATH}\").collect()[0][\"count\"]\n",
    "    print(f\"📊 Records in target table: {result_count}\")\n",
    "\n",
    "    # Show sample of loaded data\n",
    "    print(f\"\\n📖 Sample from Silver table:\")\n",
    "    spark.sql(f\"SELECT * FROM {TARGET_FULL_PATH} ORDER BY CustomerAccountId\").show(10, truncate=False)\n",
    "\n",
    "    print(f\"🎉 CustomerAccount data load complete!\")\n",
    "\n",
    "except Exception as e:\n",
    "    print(f\"❌ Error loading data to table: {str(e)}\")\n",
    "    raise"
   ]
  }
 ],
 "metadata": {
  "dependencies": {
   "lakehouse": {
    "default_lakehouse": "fa64617d-513b-4313-b7db-3e0ebba3941a",
    "default_lakehouse_name": "maag_silver",
    "default_lakehouse_workspace_id": "e1e9b2bb-4338-4ab7-86fc-28098538ede0",
    "known_lakehouses": [
     {
      "id": "fa64617d-513b-4313-b7db-3e0ebba3941a"
     }
    ]
   }
  },
  "kernel_info": {
   "name": "synapse_pyspark"
  },
  "language_info": {
   "name": "python"
  },
  "microsoft": {
   "language": "python",
   "language_group": "synapse_pyspark",
   "ms_spell_check": {
    "ms_spell_check_language": "en"
   }
  },
  "nteract": {
   "version": "nteract-front-end@1.0.0"
  },
  "spark_compute": {
   "compute_id": "/trident/default",
   "session_options": {
    "conf": {
     "spark.synapse.nbs.session.timeout": "1200000"
    }
   }
  }
 },
 "nbformat": 4,
 "nbformat_minor": 5
}
