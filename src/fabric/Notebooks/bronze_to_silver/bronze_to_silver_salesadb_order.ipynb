{
 "cells": [
  {
   "cell_type": "markdown",
   "id": "e1c73b54",
   "metadata": {},
   "source": [
    "# Load Bronze Data to Silver Table - Orders (ADB)\n",
    "\n",
    "## Overview\n",
    "Load Customer sample data from Bronze lakehouse files into Silver lakehouse table.\n",
    "\n",
    "## Data Flow\n",
    "- **Source**: Bronze Lakehouse /Files/samples_databricks/sales/Order_Samples_ADB.csv\n",
    "- **Target**: Silver Lakehouse shared.Customer table (Delta table)\n",
    "- **Process**: Read CSV, validate schema, load to Delta table\n",
    "\n",
    "---"
   ]
  },
  {
   "cell_type": "code",
   "execution_count": null,
   "id": "b9a8ab0b",
   "metadata": {
    "microsoft": {
     "language": "python",
     "language_group": "synapse_pyspark"
    }
   },
   "outputs": [],
   "source": [
    "import pandas as pd\n",
    "from pyspark.sql import SparkSession\n",
    "from pyspark.sql.types import *\n",
    "from pyspark.sql.functions import col, sum as spark_sum\n",
    "import os\n",
    "\n",
    "# Configuration - Using correct Fabric cross-lakehouse path from Fabric portal\n",
    "WORKSPACE_NAME = \"Fabric_MAAG\"\n",
    "SOURCE_LAKEHOUSE_NAME = \"maag_bronze\"\n",
    "SOURCE_PATH = f\"abfss://{WORKSPACE_NAME}@onelake.dfs.fabric.microsoft.com/{SOURCE_LAKEHOUSE_NAME}.Lakehouse/Files/samples_databricks/sales/Order_Samples_ADB.csv\"\n",
    "\n",
    "TARGET_SCHEMA = \"salesadb\"\n",
    "TARGET_TABLE = \"order\"\n",
    "TARGET_FULL_PATH = f\"{TARGET_SCHEMA}.{TARGET_TABLE}\"\n",
    "\n",
    "print(f\"🔄 Loading Order data\")\n",
    "print(f\"📂 Source: {SOURCE_PATH}\")\n",
    "print(f\"🎯 Target: {TARGET_FULL_PATH}\")\n",
    "\n",
    "# Read CSV from Bronze lakehouse\n",
    "df = spark.read.option(\"header\", \"true\").option(\"inferSchema\", \"true\").csv(SOURCE_PATH)\n",
    "\n",
    "print(f\"✅ Data loaded successfully\")\n",
    "print(f\"📊 Records: {df.count()}\")\n",
    "print(f\"📋 Columns: {df.columns}\")\n",
    "\n",
    "# Display sample data\n",
    "print(f\"\\n📖 Sample data:\")\n",
    "df.show(10, truncate=False)\n",
    "\n",
    "# Validate and conform to target schema\n",
    "print(f\"🔍 Validating data quality...\")\n",
    "\n",
    "# Required columns from Model_Sales_Domain.ipynb Order table\n",
    "required_columns = [\n",
    "    \"OrderId\", \"SalesChannelId\", \"OrderNumber\", \"CustomerId\", \"CustomerAccountId\",\n",
    "    \"OrderDate\", \"OrderStatus\", \"SubTotal\", \"TaxAmount\", \"OrderTotal\",\n",
    "    \"PaymentMethod\", \"IsoCurrencyCode\", \"CreatedBy\"\n",
    "]\n",
    "\n",
    "# Check for missing columns\n",
    "missing_columns = [c for c in required_columns if c not in df.columns]\n",
    "if missing_columns:\n",
    "    print(f\"⚠️ Warning: Missing columns in source data: {missing_columns}\")\n",
    "else:\n",
    "    print(f\"✅ All required columns present in source data.\")\n",
    "\n",
    "# Add missing columns with default values if needed\n",
    "from pyspark.sql import functions as F\n",
    "for col_name in missing_columns:\n",
    "    if col_name in [\"SubTotal\", \"TaxAmount\", \"OrderTotal\"]:\n",
    "        df = df.withColumn(col_name, F.lit(0.0))\n",
    "    else:\n",
    "        df = df.withColumn(col_name, F.lit(\"\"))\n",
    "\n",
    "# Align DataFrame columns and types to match the target table\n",
    "from pyspark.sql.types import StringType, DoubleType, DateType\n",
    "\n",
    "df = df.withColumn(\"OrderId\", col(\"OrderId\").cast(StringType()))\n",
    "df = df.withColumn(\"SalesChannelId\", col(\"SalesChannelId\").cast(StringType()))\n",
    "df = df.withColumn(\"OrderNumber\", col(\"OrderNumber\").cast(StringType()))\n",
    "df = df.withColumn(\"CustomerId\", col(\"CustomerId\").cast(StringType()))\n",
    "df = df.withColumn(\"CustomerAccountId\", col(\"CustomerAccountId\").cast(StringType()))\n",
    "df = df.withColumn(\"OrderDate\", col(\"OrderDate\").cast(DateType()))\n",
    "df = df.withColumn(\"OrderStatus\", col(\"OrderStatus\").cast(StringType()))\n",
    "df = df.withColumn(\"SubTotal\", col(\"SubTotal\").cast(DoubleType()))\n",
    "df = df.withColumn(\"TaxAmount\", col(\"TaxAmount\").cast(DoubleType()))\n",
    "df = df.withColumn(\"OrderTotal\", col(\"OrderTotal\").cast(DoubleType()))\n",
    "df = df.withColumn(\"PaymentMethod\", col(\"PaymentMethod\").cast(StringType()))\n",
    "df = df.withColumn(\"IsoCurrencyCode\", col(\"IsoCurrencyCode\").cast(StringType()))\n",
    "df = df.withColumn(\"CreatedBy\", col(\"CreatedBy\").cast(StringType()))\n",
    "df = df.select(required_columns)\n",
    "\n",
    "# Data quality checks\n",
    "print(f\"\\n📊 Data Quality Check:\")\n",
    "null_counts = df.select([F.sum(col(c).isNull().cast(\"int\")).alias(c) for c in required_columns]).collect()[0]\n",
    "for col_name in required_columns:\n",
    "    null_count = null_counts[col_name]\n",
    "    if null_count > 0:\n",
    "        print(f\"  {col_name}: {null_count} null values\")\n",
    "    else:\n",
    "        print(f\"  {col_name}: ✅ No nulls\")\n",
    "\n",
    "# Show value distributions for OrderStatus\n",
    "print(f\"\\n🎯 OrderStatus Distribution:\")\n",
    "df.groupBy(\"OrderStatus\").count().orderBy(\"OrderStatus\").show()\n",
    "\n",
    "# Load data to Silver table\n",
    "print(f\"💾 Loading data to Silver table: {TARGET_FULL_PATH}\")\n",
    "\n",
    "try:\n",
    "    df.write \\\n",
    "      .format(\"delta\") \\\n",
    "      .mode(\"overwrite\") \\\n",
    "      .option(\"overwriteSchema\", \"true\") \\\n",
    "      .saveAsTable(TARGET_FULL_PATH)\n",
    "\n",
    "    print(f\"✅ Data loaded successfully to {TARGET_FULL_PATH}\")\n",
    "\n",
    "    # Verify the load\n",
    "    result_count = spark.sql(f\"SELECT COUNT(*) as count FROM {TARGET_FULL_PATH}\").collect()[0][\"count\"]\n",
    "    print(f\"📊 Records in target table: {result_count}\")\n",
    "\n",
    "    # Show sample of loaded data\n",
    "    print(f\"\\n📖 Sample from Silver table:\")\n",
    "    spark.sql(f\"SELECT * FROM {TARGET_FULL_PATH} ORDER BY OrderId\").show(10, truncate=False)\n",
    "\n",
    "    print(f\"🎉 Order data load complete!\")\n",
    "\n",
    "except Exception as e:\n",
    "    print(f\"❌ Error loading data to table: {str(e)}\")\n",
    "    raise"
   ]
  }
 ],
 "metadata": {
  "dependencies": {
   "lakehouse": {
    "default_lakehouse": "fa64617d-513b-4313-b7db-3e0ebba3941a",
    "default_lakehouse_name": "maag_silver",
    "default_lakehouse_workspace_id": "e1e9b2bb-4338-4ab7-86fc-28098538ede0",
    "known_lakehouses": [
     {
      "id": "fa64617d-513b-4313-b7db-3e0ebba3941a"
     }
    ]
   }
  },
  "kernel_info": {
   "name": "synapse_pyspark"
  },
  "language_info": {
   "name": "python"
  },
  "microsoft": {
   "language": "python",
   "language_group": "synapse_pyspark",
   "ms_spell_check": {
    "ms_spell_check_language": "en"
   }
  },
  "nteract": {
   "version": "nteract-front-end@1.0.0"
  },
  "spark_compute": {
   "compute_id": "/trident/default",
   "session_options": {
    "conf": {
     "spark.synapse.nbs.session.timeout": "1200000"
    }
   }
  }
 },
 "nbformat": 4,
 "nbformat_minor": 5
}
