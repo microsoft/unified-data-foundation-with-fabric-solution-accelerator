{
 "cells": [
  {
   "cell_type": "code",
   "execution_count": null,
   "id": "6823fb06",
   "metadata": {
    "microsoft": {
     "language": "python",
     "language_group": "synapse_pyspark"
    }
   },
   "outputs": [],
   "source": []
  },
  {
   "cell_type": "markdown",
   "id": "f6871c7b",
   "metadata": {},
   "source": [
    "# Load Bronze Data to Silver Table - CustomerRelationshipType\n",
    "\n",
    "## Overview\n",
    "Load CustomerRelationshipType sample data from Bronze lakehouse files into Silver lakehouse table.\n",
    "\n",
    "## Data Flow\n",
    "- **Source**: Bronze Lakehouse /Files/samples/fabric/shared/CustomerRelationshipType_Samples.csv\n",
    "- **Target**: Silver Lakehouse shared.CustomerRelationshipType table (Delta table)\n",
    "- **Process**: Read CSV, validate schema, load to Delta table\n",
    "\n",
    "---"
   ]
  },
  {
   "cell_type": "code",
   "execution_count": 1,
   "id": "fbad786b",
   "metadata": {
    "microsoft": {
     "language": "python",
     "language_group": "synapse_pyspark"
    }
   },
   "outputs": [
    {
     "data": {
      "application/vnd.livy.statement-meta+json": {
       "execution_finish_time": "2025-08-07T16:23:17.442557Z",
       "execution_start_time": "2025-08-07T16:23:13.0815087Z",
       "livy_statement_state": "available",
       "normalized_state": "finished",
       "parent_msg_id": "dd9a83b8-c59f-49f5-a6b0-d5cd85429374",
       "queued_time": "2025-08-07T16:23:00.9843166Z",
       "session_id": "380c890e-9e97-4f60-a238-a187260325aa",
       "session_start_time": "2025-08-07T16:23:00.9854107Z",
       "spark_pool": null,
       "state": "finished",
       "statement_id": 3,
       "statement_ids": [
        3
       ]
      },
      "text/plain": [
       "StatementMeta(, 380c890e-9e97-4f60-a238-a187260325aa, 3, Finished, Available, Finished)"
      ]
     },
     "metadata": {},
     "output_type": "display_data"
    },
    {
     "name": "stdout",
     "output_type": "stream",
     "text": [
      "🔄 Loading CustomerRelationshipType data\n",
      "📂 Source: abfss://Fabric_MAAG@onelake.dfs.fabric.microsoft.com/MAAG_LH_Bronze.Lakehouse/Files/samples_fabric/shared/CustomerRelationshipType_Samples.csv\n",
      "🎯 Target: shared.customerrelationshiptype\n",
      "✅ Data loaded successfully\n",
      "📊 Records: 9\n",
      "📋 Columns: ['CustomerRelationshipTypeId', 'CustomerRelationshipTypeName', 'CustomerRelationshipTypeDescription']\n",
      "\n",
      "📖 Sample data:\n",
      "+--------------------------+----------------------------+-----------------------------------------------------------------------------------------------------------------------------------------+\n",
      "|CustomerRelationshipTypeId|CustomerRelationshipTypeName|CustomerRelationshipTypeDescription                                                                                                      |\n",
      "+--------------------------+----------------------------+-----------------------------------------------------------------------------------------------------------------------------------------+\n",
      "|Standard                  |Standard Individual         |Basic individual customer with standard service level and pricing. Entry-level tier for personal customers.                              |\n",
      "|Premium                   |Premium Individual          |Enhanced individual customer with priority support, exclusive offers, and premium service benefits.                                      |\n",
      "|VIP                       |VIP Individual              |Top-tier individual customer with white-glove service, dedicated support, and exclusive access to premium products and events.           |\n",
      "|SMB                       |Small-Medium Business       |Small to medium-sized business customers with volume discounts, business support, and flexible payment terms.                            |\n",
      "|Premier                   |Premier Business            |High-value business customers with dedicated account management, priority support, and customized solutions.                             |\n",
      "|Partner                   |Strategic Partner           |Strategic business partners including resellers, distributors, and channel partners with special pricing and co-marketing opportunities. |\n",
      "|Local                     |Local Government            |Local government entities including cities, counties, municipalities, and local agencies with government pricing and procurement support.|\n",
      "|State                     |State Government            |State government departments and agencies with enterprise-level support, compliance assistance, and state contract pricing.              |\n",
      "|Federal                   |Federal Government          |Federal government agencies and departments with specialized compliance support, GSA pricing, and security clearance requirements.       |\n",
      "+--------------------------+----------------------------+-----------------------------------------------------------------------------------------------------------------------------------------+\n",
      "\n"
     ]
    }
   ],
   "source": [
    "import pandas as pd\n",
    "from pyspark.sql import SparkSession\n",
    "from pyspark.sql.types import *\n",
    "from pyspark.sql.functions import col, sum\n",
    "import os\n",
    "\n",
    "# Configuration - Using correct Fabric cross-lakehouse path from Fabric portal\n",
    "WORKSPACE_NAME = \"Fabric_MAAG\"\n",
    "SOURCE_LAKEHOUSE_NAME = \"maag_bronze\"\n",
    "SOURCE_PATH = f\"abfss://{WORKSPACE_NAME}@onelake.dfs.fabric.microsoft.com/{SOURCE_LAKEHOUSE_NAME}.Lakehouse/Files/samples_fabric/shared/CustomerRelationshipType_Samples.csv\"\n",
    "\n",
    "TARGET_SCHEMA = \"shared\"\n",
    "TARGET_TABLE = \"customerrelationshiptype\"\n",
    "TARGET_FULL_PATH = f\"{TARGET_SCHEMA}.{TARGET_TABLE}\"\n",
    "\n",
    "print(f\"🔄 Loading CustomerRelationshipType data\")\n",
    "print(f\"📂 Source: {SOURCE_PATH}\")\n",
    "print(f\"🎯 Target: {TARGET_FULL_PATH}\")\n",
    "\n",
    "# Read CSV from Bronze lakehouse\n",
    "df = spark.read.option(\"header\", \"true\").option(\"inferSchema\", \"true\").csv(SOURCE_PATH)\n",
    "\n",
    "print(f\"✅ Data loaded successfully\")\n",
    "print(f\"📊 Records: {df.count()}\")\n",
    "print(f\"📋 Columns: {df.columns}\")\n",
    "\n",
    "# Display sample data\n",
    "print(f\"\\n📖 Sample data:\")\n",
    "df.show(10, truncate=False)"
   ]
  },
  {
   "cell_type": "code",
   "execution_count": 2,
   "id": "25d133e6",
   "metadata": {
    "microsoft": {
     "language": "python",
     "language_group": "synapse_pyspark"
    }
   },
   "outputs": [
    {
     "data": {
      "application/vnd.livy.statement-meta+json": {
       "execution_finish_time": "2025-08-07T16:26:01.4874942Z",
       "execution_start_time": "2025-08-07T16:25:59.9278298Z",
       "livy_statement_state": "available",
       "normalized_state": "finished",
       "parent_msg_id": "28b9108e-5038-4d86-8a87-64114b91d306",
       "queued_time": "2025-08-07T16:25:59.9263114Z",
       "session_id": "380c890e-9e97-4f60-a238-a187260325aa",
       "session_start_time": null,
       "spark_pool": null,
       "state": "finished",
       "statement_id": 4,
       "statement_ids": [
        4
       ]
      },
      "text/plain": [
       "StatementMeta(, 380c890e-9e97-4f60-a238-a187260325aa, 4, Finished, Available, Finished)"
      ]
     },
     "metadata": {},
     "output_type": "display_data"
    },
    {
     "name": "stdout",
     "output_type": "stream",
     "text": [
      "🔍 Validating data quality...\n",
      "✅ Schema validation passed\n",
      "\n",
      "📊 Data Quality Check:\n",
      "  CustomerRelationshipTypeId: ✅ No nulls\n",
      "  CustomerRelationshipTypeName: ✅ No nulls\n",
      "  CustomerRelationshipTypeDescription: ✅ No nulls\n",
      "\n",
      "🎯 CustomerRelationshipType Distribution:\n",
      "+--------------------------+-----+\n",
      "|CustomerRelationshipTypeId|count|\n",
      "+--------------------------+-----+\n",
      "|                   Federal|    1|\n",
      "|                     Local|    1|\n",
      "|                   Partner|    1|\n",
      "|                   Premier|    1|\n",
      "|                   Premium|    1|\n",
      "|                       SMB|    1|\n",
      "|                  Standard|    1|\n",
      "|                     State|    1|\n",
      "|                       VIP|    1|\n",
      "+--------------------------+-----+\n",
      "\n"
     ]
    }
   ],
   "source": [
    "# Validate and conform to target schema\n",
    "print(f\"🔍 Validating data quality...\")\n",
    "\n",
    "# Check for required columns\n",
    "required_columns = [\"CustomerRelationshipTypeId\", \"CustomerRelationshipTypeName\", \"CustomerRelationshipTypeDescription\"]\n",
    "missing_columns = [col for col in required_columns if col not in df.columns]\n",
    "\n",
    "if missing_columns:\n",
    "    print(f\"❌ Missing required columns: {missing_columns}\")\n",
    "    raise ValueError(f\"Required columns missing: {missing_columns}\")\n",
    "\n",
    "print(f\"✅ Schema validation passed\")\n",
    "\n",
    "# Check data quality\n",
    "from pyspark.sql.functions import sum as spark_sum\n",
    "null_counts = df.select([spark_sum(col(c).isNull().cast(\"int\")).alias(c) for c in df.columns]).collect()[0]\n",
    "print(f\"\\n📊 Data Quality Check:\")\n",
    "for col_name in df.columns:\n",
    "    null_count = null_counts[col_name]\n",
    "    if null_count > 0:\n",
    "        print(f\"  {col_name}: {null_count} null values\")\n",
    "    else:\n",
    "        print(f\"  {col_name}: ✅ No nulls\")\n",
    "\n",
    "# Show value distributions\n",
    "print(f\"\\n🎯 CustomerRelationshipType Distribution:\")\n",
    "df.groupBy(\"CustomerRelationshipTypeId\").count().orderBy(\"CustomerRelationshipTypeId\").show()"
   ]
  },
  {
   "cell_type": "code",
   "execution_count": 3,
   "id": "0381e030",
   "metadata": {
    "microsoft": {
     "language": "python",
     "language_group": "synapse_pyspark"
    }
   },
   "outputs": [
    {
     "data": {
      "application/vnd.livy.statement-meta+json": {
       "execution_finish_time": "2025-08-07T16:27:04.8200029Z",
       "execution_start_time": "2025-08-07T16:26:24.7287384Z",
       "livy_statement_state": "available",
       "normalized_state": "finished",
       "parent_msg_id": "7f087e6a-b829-4756-b02f-47c1e6c213db",
       "queued_time": "2025-08-07T16:26:24.7276745Z",
       "session_id": "380c890e-9e97-4f60-a238-a187260325aa",
       "session_start_time": null,
       "spark_pool": null,
       "state": "finished",
       "statement_id": 5,
       "statement_ids": [
        5
       ]
      },
      "text/plain": [
       "StatementMeta(, 380c890e-9e97-4f60-a238-a187260325aa, 5, Finished, Available, Finished)"
      ]
     },
     "metadata": {},
     "output_type": "display_data"
    },
    {
     "name": "stdout",
     "output_type": "stream",
     "text": [
      "💾 Loading data to Silver table: shared.customerrelationshiptype\n",
      "✅ Data loaded successfully to shared.customerrelationshiptype\n",
      "📊 Records in target table: 9\n",
      "\n",
      "📖 Sample from Silver table:\n",
      "+--------------------------+----------------------------+-----------------------------------------------------------------------------------------------------------------------------------------+\n",
      "|CustomerRelationshipTypeId|CustomerRelationshipTypeName|CustomerRelationshipTypeDescription                                                                                                      |\n",
      "+--------------------------+----------------------------+-----------------------------------------------------------------------------------------------------------------------------------------+\n",
      "|Federal                   |Federal Government          |Federal government agencies and departments with specialized compliance support, GSA pricing, and security clearance requirements.       |\n",
      "|Local                     |Local Government            |Local government entities including cities, counties, municipalities, and local agencies with government pricing and procurement support.|\n",
      "|Partner                   |Strategic Partner           |Strategic business partners including resellers, distributors, and channel partners with special pricing and co-marketing opportunities. |\n",
      "|Premier                   |Premier Business            |High-value business customers with dedicated account management, priority support, and customized solutions.                             |\n",
      "|Premium                   |Premium Individual          |Enhanced individual customer with priority support, exclusive offers, and premium service benefits.                                      |\n",
      "|SMB                       |Small-Medium Business       |Small to medium-sized business customers with volume discounts, business support, and flexible payment terms.                            |\n",
      "|Standard                  |Standard Individual         |Basic individual customer with standard service level and pricing. Entry-level tier for personal customers.                              |\n",
      "|State                     |State Government            |State government departments and agencies with enterprise-level support, compliance assistance, and state contract pricing.              |\n",
      "|VIP                       |VIP Individual              |Top-tier individual customer with white-glove service, dedicated support, and exclusive access to premium products and events.           |\n",
      "+--------------------------+----------------------------+-----------------------------------------------------------------------------------------------------------------------------------------+\n",
      "\n",
      "🎉 CustomerRelationshipType data load complete!\n"
     ]
    }
   ],
   "source": [
    "# Load data to Silver table\n",
    "print(f\"💾 Loading data to Silver table: {TARGET_FULL_PATH}\")\n",
    "\n",
    "try:\n",
    "    # Write to Delta table in Silver lakehouse\n",
    "    df.write \\\n",
    "      .format(\"delta\") \\\n",
    "      .mode(\"overwrite\") \\\n",
    "      .option(\"overwriteSchema\", \"true\") \\\n",
    "      .saveAsTable(TARGET_FULL_PATH)\n",
    "    \n",
    "    print(f\"✅ Data loaded successfully to {TARGET_FULL_PATH}\")\n",
    "    \n",
    "    # Verify the load\n",
    "    result_count = spark.sql(f\"SELECT COUNT(*) as count FROM {TARGET_FULL_PATH}\").collect()[0][\"count\"]\n",
    "    print(f\"📊 Records in target table: {result_count}\")\n",
    "    \n",
    "    # Show sample of loaded data\n",
    "    print(f\"\\n📖 Sample from Silver table:\")\n",
    "    spark.sql(f\"SELECT * FROM {TARGET_FULL_PATH} ORDER BY CustomerRelationshipTypeId\").show(10, truncate=False)\n",
    "    \n",
    "    print(f\"🎉 CustomerRelationshipType data load complete!\")\n",
    "    \n",
    "except Exception as e:\n",
    "    print(f\"❌ Error loading data to table: {str(e)}\")\n",
    "    raise"
   ]
  }
 ],
 "metadata": {
  "dependencies": {
   "lakehouse": {
    "default_lakehouse": "fa64617d-513b-4313-b7db-3e0ebba3941a",
    "default_lakehouse_name": "maag_silver",
    "default_lakehouse_workspace_id": "e1e9b2bb-4338-4ab7-86fc-28098538ede0",
    "known_lakehouses": [
     {
      "id": "fa64617d-513b-4313-b7db-3e0ebba3941a"
     }
    ]
   }
  },
  "kernel_info": {
   "name": "synapse_pyspark"
  },
  "language_info": {
   "name": "python"
  },
  "microsoft": {
   "language": "python",
   "language_group": "synapse_pyspark",
   "ms_spell_check": {
    "ms_spell_check_language": "en"
   }
  },
  "nteract": {
   "version": "nteract-front-end@1.0.0"
  },
  "spark_compute": {
   "compute_id": "/trident/default",
   "session_options": {
    "conf": {
     "spark.synapse.nbs.session.timeout": "1200000"
    }
   }
  }
 },
 "nbformat": 4,
 "nbformat_minor": 5
}
