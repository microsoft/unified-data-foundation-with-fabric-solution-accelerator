{
 "cells": [
  {
   "cell_type": "markdown",
   "id": "0267d2df",
   "metadata": {},
   "source": [
    "# Data Processing from Bronze to Silver "
   ]
  },
  {
   "cell_type": "markdown",
   "id": "ac58cd09",
   "metadata": {},
   "source": [
    "## Prepare Clean Environment for Silver Lakehouse "
   ]
  },
  {
   "cell_type": "code",
   "execution_count": null,
   "id": "271c1949",
   "metadata": {
    "vscode": {
     "languageId": "plaintext"
    }
   },
   "outputs": [],
   "source": [
    "# %run truncate_all_tables_silver"
   ]
  },
  {
   "cell_type": "code",
   "execution_count": null,
   "id": "48cbee35",
   "metadata": {
    "vscode": {
     "languageId": "plaintext"
    }
   },
   "outputs": [],
   "source": [
    "# %run drop_all_tables_silver"
   ]
  },
  {
   "cell_type": "markdown",
   "id": "5fb7f51b",
   "metadata": {},
   "source": [
    "## Create Schema and Tables in Silver "
   ]
  },
  {
   "cell_type": "code",
   "execution_count": null,
   "id": "72bd49bb",
   "metadata": {
    "vscode": {
     "languageId": "plaintext"
    }
   },
   "outputs": [],
   "source": [
    "%run model_finance_silver"
   ]
  },
  {
   "cell_type": "code",
   "execution_count": null,
   "id": "09e72310",
   "metadata": {
    "vscode": {
     "languageId": "plaintext"
    }
   },
   "outputs": [],
   "source": [
    "%run model_shared_silver"
   ]
  },
  {
   "cell_type": "code",
   "execution_count": null,
   "id": "b9d0ffb2",
   "metadata": {
    "vscode": {
     "languageId": "plaintext"
    }
   },
   "outputs": [],
   "source": [
    "%run model_salesfabric_silver"
   ]
  },
  {
   "cell_type": "code",
   "execution_count": null,
   "id": "6e01b3a7",
   "metadata": {
    "vscode": {
     "languageId": "plaintext"
    }
   },
   "outputs": [],
   "source": [
    "%run model_salesadb_silver"
   ]
  },
  {
   "cell_type": "markdown",
   "id": "72235868",
   "metadata": {},
   "source": [
    "## Bronze to Silver - finacne tables "
   ]
  },
  {
   "cell_type": "code",
   "execution_count": null,
   "id": "8060d68f",
   "metadata": {
    "vscode": {
     "languageId": "plaintext"
    }
   },
   "outputs": [],
   "source": [
    "%run bronze_to_silver_finance_account"
   ]
  },
  {
   "cell_type": "code",
   "execution_count": null,
   "id": "75ee19bf",
   "metadata": {
    "vscode": {
     "languageId": "plaintext"
    }
   },
   "outputs": [],
   "source": [
    "%run bronze_to_silver_finance_invoice"
   ]
  },
  {
   "cell_type": "code",
   "execution_count": null,
   "id": "7aa24c9a",
   "metadata": {
    "vscode": {
     "languageId": "plaintext"
    }
   },
   "outputs": [],
   "source": [
    "%run bronze_to_silver_finance_payment"
   ]
  },
  {
   "cell_type": "markdown",
   "id": "306a0e24",
   "metadata": {},
   "source": [
    "## Bronze to Silver - salesfabric tables "
   ]
  },
  {
   "cell_type": "code",
   "execution_count": null,
   "id": "1ef36d8c",
   "metadata": {
    "vscode": {
     "languageId": "plaintext"
    }
   },
   "outputs": [],
   "source": [
    "%run bronze_to_silver_salesfabric_order"
   ]
  },
  {
   "cell_type": "code",
   "execution_count": null,
   "id": "3f4617b5",
   "metadata": {
    "vscode": {
     "languageId": "plaintext"
    }
   },
   "outputs": [],
   "source": [
    "%run bronze_to_silver_salesfabric_orderLine"
   ]
  },
  {
   "cell_type": "code",
   "execution_count": null,
   "id": "f097d444",
   "metadata": {
    "vscode": {
     "languageId": "plaintext"
    }
   },
   "outputs": [],
   "source": [
    "%run bronze_to_silver_salesfabric_orderPayment"
   ]
  },
  {
   "cell_type": "markdown",
   "id": "8e6e3a66",
   "metadata": {},
   "source": [
    "## Bronze to Silver - salesadb tables "
   ]
  },
  {
   "cell_type": "code",
   "execution_count": null,
   "id": "849a2644",
   "metadata": {
    "vscode": {
     "languageId": "plaintext"
    }
   },
   "outputs": [],
   "source": [
    "%run bronze_to_silver_salesadb_order"
   ]
  },
  {
   "cell_type": "code",
   "execution_count": null,
   "id": "20972d5a",
   "metadata": {
    "vscode": {
     "languageId": "plaintext"
    }
   },
   "outputs": [],
   "source": [
    "%run bronze_to_silver_salesadb_orderLine"
   ]
  },
  {
   "cell_type": "code",
   "execution_count": null,
   "id": "0300428d",
   "metadata": {
    "vscode": {
     "languageId": "plaintext"
    }
   },
   "outputs": [],
   "source": [
    "%run bronze_to_silver_salesadb_orderPayment"
   ]
  },
  {
   "cell_type": "markdown",
   "id": "2697e86a",
   "metadata": {},
   "source": [
    "## Bronze to Silver - shared (customer and product) tables"
   ]
  },
  {
   "cell_type": "code",
   "execution_count": null,
   "id": "829099ff",
   "metadata": {
    "vscode": {
     "languageId": "plaintext"
    }
   },
   "outputs": [],
   "source": [
    "%run bronze_to_silver_shared_customer"
   ]
  },
  {
   "cell_type": "code",
   "execution_count": null,
   "id": "00c5d120",
   "metadata": {
    "vscode": {
     "languageId": "plaintext"
    }
   },
   "outputs": [],
   "source": [
    "%run bronze_to_silver_shared_customerAccount"
   ]
  },
  {
   "cell_type": "code",
   "execution_count": null,
   "id": "8a4e0b48",
   "metadata": {
    "vscode": {
     "languageId": "plaintext"
    }
   },
   "outputs": [],
   "source": [
    "%run bronze_to_silver_shared_customerRelationshipType"
   ]
  },
  {
   "cell_type": "code",
   "execution_count": null,
   "id": "5d7b8ec4",
   "metadata": {
    "vscode": {
     "languageId": "plaintext"
    }
   },
   "outputs": [],
   "source": [
    "%run bronze_to_silver_shared_customerTradeName"
   ]
  },
  {
   "cell_type": "code",
   "execution_count": null,
   "id": "0bf1e2e5",
   "metadata": {
    "vscode": {
     "languageId": "plaintext"
    }
   },
   "outputs": [],
   "source": [
    "%run bronze_to_silver_shared_customerTradeName"
   ]
  },
  {
   "cell_type": "code",
   "execution_count": null,
   "id": "31fa5068",
   "metadata": {
    "vscode": {
     "languageId": "plaintext"
    }
   },
   "outputs": [],
   "source": [
    "%run bronze_to_silver_shared_location"
   ]
  },
  {
   "cell_type": "code",
   "execution_count": null,
   "id": "7706811f",
   "metadata": {
    "vscode": {
     "languageId": "plaintext"
    }
   },
   "outputs": [],
   "source": [
    "%run bronze_to_silver_shared_product"
   ]
  },
  {
   "cell_type": "code",
   "execution_count": null,
   "id": "d61eeffa",
   "metadata": {
    "vscode": {
     "languageId": "plaintext"
    }
   },
   "outputs": [],
   "source": [
    "%run bronze_to_silver_shared_productCategory"
   ]
  },
  {
   "cell_type": "markdown",
   "id": "495f06e8",
   "metadata": {},
   "source": []
  }
 ],
 "metadata": {
  "language_info": {
   "name": "python"
  }
 },
 "nbformat": 4,
 "nbformat_minor": 5
}
