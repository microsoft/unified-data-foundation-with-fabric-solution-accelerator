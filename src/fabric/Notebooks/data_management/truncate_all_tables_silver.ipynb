{
 "cells": [
  {
   "cell_type": "markdown",
   "id": "cbc2012f",
   "metadata": {},
   "source": [
    "# Truncate All Tables in all Schemes \n",
    "\n",
    "This notebook truncates (removes all rows from) tables in the schemas `shared`, `salesfabric`, `salesadb`, and `finance` if they exist."
   ]
  },
  {
   "cell_type": "code",
   "execution_count": null,
   "id": "a40e650f",
   "metadata": {
    "microsoft": {
     "language": "python",
     "language_group": "synapse_pyspark"
    }
   },
   "outputs": [],
   "source": [
    "# Truncate tables in multiple schemas if they exist\n",
    "def truncate_tables(schema_name, tables):\n",
    "    try:\n",
    "        existing_tables = set(spark.sql(f\"SHOW TABLES IN {schema_name}\").select('tableName').rdd.flatMap(lambda x: x).collect())\n",
    "    except Exception as e:\n",
    "        print(f\"⚠️ Schema {schema_name} not found. Skipping all tables in this schema.\")\n",
    "        return\n",
    "    for table in tables:\n",
    "        full_table = f\"{schema_name}.{table}\"\n",
    "        if table in existing_tables:\n",
    "            print(f\"🔨 Truncating {full_table} ...\")\n",
    "            try:\n",
    "                spark.sql(f\"TRUNCATE TABLE {full_table}\")\n",
    "                print(f\"✅ {full_table} truncated!\")\n",
    "            except Exception as e:\n",
    "                print(f\"⚠️ Could not truncate {full_table}: {e}\")\n",
    "        else:\n",
    "            print(f\"⚠️ Table {full_table} does not exist. Skipping.\")\n",
    "\n",
    "# Define schemas and tables\n",
    "schemas_tables = {\n",
    "    \"shared\": [\n",
    "        \"customer\", \"customeraccount\", \"customerrelationshiptype\",\n",
    "        \"customertradename\", \"location\", \"product\", \"productcategory\"\n",
    "    ],\n",
    "    \"salesfabric\": [\"order\", \"orderline\", \"orderpayment\"],\n",
    "    \"salesadb\": [\"order\", \"orderline\", \"orderpayment\"],\n",
    "    \"finance\": [\"account\", \"invoice\", \"payment\"]\n",
    "}\n",
    "\n",
    "# Truncate all tables\n",
    "for schema, tables in schemas_tables.items():\n",
    "    print(f\"\\n--- Truncating tables in schema: {schema} ---\")\n",
    "    truncate_tables(schema, tables)\n",
    "\n",
    "print(f\"\\n🎉 ALL SELECTED TABLES TRUNCATED!\")"
   ]
  }
 ],
 "metadata": {
  "dependencies": {
   "lakehouse": {
    "default_lakehouse": "fa64617d-513b-4313-b7db-3e0ebba3941a",
    "default_lakehouse_name": "maag_silver",
    "default_lakehouse_workspace_id": "e1e9b2bb-4338-4ab7-86fc-28098538ede0",
    "known_lakehouses": [
     {
      "id": "fa64617d-513b-4313-b7db-3e0ebba3941a"
     }
    ]
   }
  },
  "kernel_info": {
   "name": "synapse_pyspark"
  },
  "kernelspec": {
   "display_name": "synapse_pyspark",
   "name": "synapse_pyspark"
  },
  "language_info": {
   "name": "python"
  },
  "microsoft": {
   "language": "python",
   "language_group": "synapse_pyspark",
   "ms_spell_check": {
    "ms_spell_check_language": "en"
   }
  },
  "nteract": {
   "version": "nteract-front-end@1.0.0"
  },
  "spark_compute": {
   "compute_id": "/trident/default",
   "session_options": {
    "conf": {
     "spark.synapse.nbs.session.timeout": "1200000"
    }
   }
  }
 },
 "nbformat": 4,
 "nbformat_minor": 5
}
