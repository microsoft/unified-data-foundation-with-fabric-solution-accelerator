{
 "cells": [
  {
   "cell_type": "markdown",
   "id": "d9ead96b",
   "metadata": {},
   "source": [
    "# Drop All Tables and Schemes\n",
    "\n",
    "This notebook drops all tables in the listed schemes (`shared`, `salesfabric`, `salesadb`, `finance`) if they exist, and then drops the schemes themselves.\n",
    "\n",
    "- Skips schemes and tables that do not exist.\n",
    "- Prints status for each drop operation."
   ]
  },
  {
   "cell_type": "code",
   "execution_count": null,
   "id": "829d5da1",
   "metadata": {
    "microsoft": {
     "language": "python",
     "language_group": "synapse_pyspark"
    }
   },
   "outputs": [],
   "source": [
    "# Drop tables in multiple schemas if they exist\n",
    "def drop_tables(schema_name, tables):\n",
    "    try:\n",
    "        existing_tables = set(spark.sql(f\"SHOW TABLES IN {schema_name}\").select('tableName').rdd.flatMap(lambda x: x).collect())\n",
    "    except Exception as e:\n",
    "        print(f\"⚠️ Schema {schema_name} not found. Skipping all tables in this schema.\")\n",
    "        return\n",
    "    for table in tables:\n",
    "        full_table = f\"{schema_name}.{table}\"\n",
    "        if table in existing_tables:\n",
    "            print(f\"🗑️ Dropping {full_table} ...\")\n",
    "            try:\n",
    "                spark.sql(f\"DROP TABLE IF EXISTS {full_table}\")\n",
    "                print(f\"✅ {full_table} dropped!\")\n",
    "            except Exception as e:\n",
    "                print(f\"⚠️ Could not drop {full_table}: {e}\")\n",
    "        else:\n",
    "            print(f\"⚠️ Table {full_table} does not exist. Skipping.\")\n",
    "\n",
    "# Define schemas and tables\n",
    "schemas_tables = {\n",
    "    \"shared\": [\n",
    "        \"customer\", \"customeraccount\", \"customerrelationshiptype\",\n",
    "        \"customertradename\", \"location\", \"product\", \"productcategory\"\n",
    "    ],\n",
    "    \"salesfabric\": [\"order\", \"orderline\", \"orderpayment\"],\n",
    "    \"salesadb\": [\"order\", \"orderline\", \"orderpayment\"],\n",
    "    \"finance\": [\"account\", \"invoice\", \"payment\"]\n",
    "}\n",
    "\n",
    "# Drop all tables\n",
    "for schema, tables in schemas_tables.items():\n",
    "    print(f\"\\n--- Dropping tables in schema: {schema} ---\")\n",
    "    drop_tables(schema, tables)\n",
    "\n",
    "print(f\"\\n🎉 ALL SELECTED TABLES DROPPED!\")\n",
    "\n",
    "# Drop schemas if they exist\n",
    "schemas = [\"shared\", \"salesfabric\", \"salesadb\", \"finance\"]\n",
    "for schema in schemas:\n",
    "    print(f\"🗑️ Dropping schema {schema} ...\")\n",
    "    try:\n",
    "        tables_left = spark.sql(f\"SHOW TABLES IN {schema}\").select('tableName').rdd.flatMap(lambda x: x).collect()\n",
    "        if tables_left:\n",
    "            print(f\"⚠️ Cannot drop schema {schema}: Tables still exist: {tables_left}\")\n",
    "        else:\n",
    "            spark.sql(f\"DROP DATABASE IF EXISTS {schema} CASCADE\")\n",
    "            print(f\"✅ Schema {schema} dropped!\")\n",
    "    except Exception as e:\n",
    "        print(f\"⚠️ Could not drop schema {schema}: {e}\")\n",
    "\n",
    "print(f\"\\n🎉 ALL Schemas DROPPED!\")"
   ]
  }
 ],
 "metadata": {
  "dependencies": {
   "lakehouse": {
    "default_lakehouse": "fa64617d-513b-4313-b7db-3e0ebba3941a",
    "default_lakehouse_name": "maag_silver",
    "default_lakehouse_workspace_id": "e1e9b2bb-4338-4ab7-86fc-28098538ede0",
    "known_lakehouses": [
     {
      "id": "fa64617d-513b-4313-b7db-3e0ebba3941a"
     }
    ]
   }
  },
  "kernel_info": {
   "name": "synapse_pyspark"
  },
  "kernelspec": {
   "display_name": "synapse_pyspark",
   "name": "synapse_pyspark"
  },
  "language_info": {
   "name": "python"
  },
  "microsoft": {
   "language": "python",
   "language_group": "synapse_pyspark",
   "ms_spell_check": {
    "ms_spell_check_language": "en"
   }
  },
  "nteract": {
   "version": "nteract-front-end@1.0.0"
  },
  "spark_compute": {
   "compute_id": "/trident/default",
   "session_options": {
    "conf": {
     "spark.synapse.nbs.session.timeout": "1200000"
    }
   }
  }
 },
 "nbformat": 4,
 "nbformat_minor": 5
}
