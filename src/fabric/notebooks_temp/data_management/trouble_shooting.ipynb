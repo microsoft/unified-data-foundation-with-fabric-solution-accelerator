{
 "cells": [
  {
   "cell_type": "markdown",
   "id": "fbc62910",
   "metadata": {},
   "source": [
    "#Trouble Shooting Notebooks"
   ]
  },
  {
   "cell_type": "code",
   "execution_count": null,
   "id": "0e5addef",
   "metadata": {
    "vscode": {
     "languageId": "plaintext"
    }
   },
   "outputs": [],
   "source": [
    "spark.sql(\"DESCRIBE TABLE EXTENDED shared.location\").show(truncate=False)"
   ]
  }
 ],
 "metadata": {
  "language_info": {
   "name": "python"
  }
 },
 "nbformat": 4,
 "nbformat_minor": 5
}
