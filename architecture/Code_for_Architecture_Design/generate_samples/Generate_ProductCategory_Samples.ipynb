{
 "cells": [
  {
   "cell_type": "markdown",
   "id": "b5b928b2",
   "metadata": {},
   "source": [
    "# Generate ProductCategory Sample Data\n",
    "\n",
    "This notebook generates unique ProductCategory sample data from Product_Samples.csv, filling in required fields for the ProductCategory table."
   ]
  },
  {
   "cell_type": "code",
   "execution_count": 6,
   "id": "b822ed49",
   "metadata": {},
   "outputs": [
    {
     "name": "stdout",
     "output_type": "stream",
     "text": [
      "📂 Reading input: C:\\\\temp\\\\samples\\\\output_as_input\\\\Product_Samples.csv\n",
      "💾 Writing output: C:\\\\temp\\\\samples\\\\output\\\\ProductCategory_Samples.csv\n",
      "✅ ProductCategory sample data written to C:\\\\temp\\\\samples\\\\output\\\\ProductCategory_Samples.csv\n",
      "\n",
      "📖 Sample output:\n",
      "   CategoryID ParentCategoryId CategoryName       CategoryDescription  \\\n",
      "0          18         Parent_1  Road Frames  Road Frames From Contoso   \n",
      "2          35         Parent_1      Helmets      Helmets From Contoso   \n",
      "4          27         Parent_1        Socks        Socks From Contoso   \n",
      "7          23         Parent_1         Caps         Caps From Contoso   \n",
      "8          25         Parent_1      Jerseys      Jerseys From Contoso   \n",
      "\n",
      "       BrandName           BrandLogoUrl  IsActive  \n",
      "0  Contoso Gears  url comming in future      True  \n",
      "2  Contoso Gears  url comming in future      True  \n",
      "4  Contoso Gears  url comming in future      True  \n",
      "7  Contoso Gears  url comming in future      True  \n",
      "8  Contoso Gears  url comming in future      True  \n"
     ]
    }
   ],
   "source": [
    "import pandas as pd\n",
    "import os\n",
    "\n",
    "# Input and output configuration\n",
    "INPUT_FILE = r\"C:\\\\temp\\\\samples\\\\output_as_input\\\\Product_Samples.csv\"\n",
    "OUTPUT_FILE = r\"C:\\\\temp\\\\samples\\\\output\\\\ProductCategory_Samples.csv\"\n",
    "\n",
    "print(f\"📂 Reading input: {INPUT_FILE}\")\n",
    "df = pd.read_csv(INPUT_FILE)\n",
    "\n",
    "# Select unique CategoryID and CategoryName pairs\n",
    "cat_df = df[[\"CategoryID\", \"CategoryName\"]].drop_duplicates().copy()\n",
    "\n",
    "# Fill in required columns\n",
    "cat_df[\"ParentCategoryId\"] = \"Parent_1\"\n",
    "cat_df[\"BrandName\"] = \"Contoso Gears\"\n",
    "cat_df[\"IsActive\"] = True\n",
    "cat_df[\"BrandLogoUrl\"] = \"url comming in future\"\n",
    "cat_df[\"CategoryDescription\"] =  cat_df[\"CategoryName\"] + \" From Contoso\"\n",
    "\n",
    "# Reorder columns as per ProductCategory table schema\n",
    "output_cols = [\n",
    "    \"CategoryID\",\n",
    "    \"ParentCategoryId\",\n",
    "    \"CategoryName\",\n",
    "    \"CategoryDescription\",\n",
    "    \"BrandName\",\n",
    "    \"BrandLogoUrl\",\n",
    "    \"IsActive\"\n",
    "]\n",
    "cat_df = cat_df[output_cols]\n",
    "\n",
    "print(f\"💾 Writing output: {OUTPUT_FILE}\")\n",
    "cat_df.to_csv(OUTPUT_FILE, index=False)\n",
    "print(f\"✅ ProductCategory sample data written to {OUTPUT_FILE}\")\n",
    "\n",
    "print(\"\\n📖 Sample output:\")\n",
    "print(cat_df.head())"
   ]
  }
 ],
 "metadata": {
  "kernelspec": {
   "display_name": "Python 3",
   "language": "python",
   "name": "python3"
  },
  "language_info": {
   "codemirror_mode": {
    "name": "ipython",
    "version": 3
   },
   "file_extension": ".py",
   "mimetype": "text/x-python",
   "name": "python",
   "nbconvert_exporter": "python",
   "pygments_lexer": "ipython3",
   "version": "3.11.9"
  }
 },
 "nbformat": 4,
 "nbformat_minor": 5
}
