{
 "cells": [
  {
   "cell_type": "markdown",
   "id": "3fa8ae58",
   "metadata": {},
   "source": [
    "# Generate Product and ProductCategory Samples for ADB Channel\n",
    "\n",
    "This notebook generates sample data for the Product and ProductCategory tables for the 'ADB' sales channel, focusing on kitchen-related products and categories.\n",
    "\n",
    "- BrandName: Contoso Kitchen\n",
    "- ParentCategoryId: Parent_2\n",
    "- CategoryId: 201+ (incrementing)\n",
    "- Output files:\n",
    "  - `C:\\temp\\samples\\output\\Product_Samples _ADB.csv`\n",
    "  - `C:\\temp\\samples\\output\\ProductCategory_Samples _ADB.csv`"
   ]
  },
  {
   "cell_type": "code",
   "execution_count": 22,
   "id": "bf9bc4dd",
   "metadata": {},
   "outputs": [],
   "source": [
    "# Import libraries\n",
    "import pandas as pd\n",
    "import random\n",
    "from datetime import datetime, timedelta\n",
    "import os\n",
    "\n",
    "# Output paths\n",
    "product_out = r\"C:\\\\temp\\\\samples\\\\output\\\\Product_Samples_ADB.csv\"\n",
    "category_out = r\"C:\\\\temp\\\\samples\\\\output\\\\ProductCategory_Samples_ADB.csv\"\n",
    "\n",
    "# Remove output files if they exist\n",
    "for f in [product_out, category_out]:\n",
    "    if os.path.exists(f):\n",
    "        os.remove(f)"
   ]
  },
  {
   "cell_type": "code",
   "execution_count": 23,
   "id": "0dff142b",
   "metadata": {},
   "outputs": [
    {
     "name": "stdout",
     "output_type": "stream",
     "text": [
      "✅ ProductCategory sample data written to C:\\\\temp\\\\samples\\\\output\\\\ProductCategory_Samples_ADB.csv\n"
     ]
    }
   ],
   "source": [
    "# Generate ProductCategory sample data for ADB channel\n",
    "category_names = [\n",
    "    (\"201\", \"Coffee Makers\"),\n",
    "    (\"202\", \"Cutlery\"),\n",
    "    (\"203\", \"Cups & Mugs\"),\n",
    "    (\"204\", \"Serving Dishes\"),\n",
    "    (\"205\", \"Ice Cream Dishes\"),\n",
    "    (\"206\", \"Mixing Bowls\"),\n",
    "    (\"207\", \"Bakeware\"),\n",
    "    (\"208\", \"Storage Containers\"),\n",
    "    (\"209\", \"Cooking Utensils\"),\n",
    "    (\"210\", \"Measuring Tools\")\n",
    "]\n",
    "\n",
    "category_rows = []\n",
    "for cat_id, cat_name in category_names:\n",
    "    category_rows.append({\n",
    "        \"CategoryID\": cat_id,\n",
    "        \"ParentCategoryId\": \"Parent_2\",\n",
    "        \"CategoryName\": cat_name,\n",
    "        \"CategoryDescription\": f\"{cat_name} for home and business kitchens.\",\n",
    "        \"BrandName\": \"Contoso Kitchen\",\n",
    "        \"BrandLogoUrl\": \"https://contoso.com/kitchen-logo.png\",\n",
    "        \"IsActive\": True\n",
    "    })\n",
    "\n",
    "df_category = pd.DataFrame(category_rows)\n",
    "df_category.to_csv(category_out, index=False)\n",
    "print(f\"✅ ProductCategory sample data written to {category_out}\")"
   ]
  },
  {
   "cell_type": "code",
   "execution_count": 24,
   "id": "f3931602",
   "metadata": {},
   "outputs": [
    {
     "name": "stdout",
     "output_type": "stream",
     "text": [
      "✅ Product sample data written to C:\\\\temp\\\\samples\\\\output\\\\Product_Samples_ADB.csv\n"
     ]
    }
   ],
   "source": [
    "# Generate Product sample data for ADB channel\n",
    "product_names = [\n",
    "    (\"Coffee Maker\", \"Programmable drip coffee maker, 12-cup capacity\", \"Black\", \"CM-1001\", \"Coffee Makers\", \"201\"),\n",
    "    (\"Espresso Machine\", \"Automatic espresso machine with milk frother\", \"Silver\", \"EM-2002\", \"Coffee Makers\", \"201\"),\n",
    "    (\"Chef Knife\", \"8-inch stainless steel chef's knife\", \"Steel\", \"CK-3001\", \"Cutlery\", \"202\"),\n",
    "    (\"Fork Set\", \"Set of 12 dinner forks\", \"Steel\", \"FS-4001\", \"Cutlery\", \"202\"),\n",
    "    (\"Coffee Mug\", \"Ceramic mug, 16oz, set of 4\", \"White\", \"CMG-5001\", \"Cups & Mugs\", \"203\"),\n",
    "    (\"Serving Platter\", \"Large porcelain serving platter\", \"White\", \"SP-6001\", \"Serving Dishes\", \"204\"),\n",
    "    (\"Ice Cream Bowl\", \"Glass ice cream bowl, set of 6\", \"Clear\", \"ICB-7001\", \"Ice Cream Dishes\", \"205\"),\n",
    "    (\"Mixing Bowl\", \"Stainless steel mixing bowl, 3 sizes\", \"Steel\", \"MB-8001\", \"Mixing Bowls\", \"206\"),\n",
    "    (\"Baking Pan\", \"Non-stick baking pan, 9x13 inch\", \"Gray\", \"BP-9001\", \"Bakeware\", \"207\"),\n",
    "    (\"Food Storage Set\", \"Plastic food storage containers, set of 10\", \"Clear\", \"FSS-10001\", \"Storage Containers\", \"208\"),\n",
    "    (\"Spatula\", \"Silicone spatula, heat resistant\", \"Red\", \"SPT-11001\", \"Cooking Utensils\", \"209\"),\n",
    "    (\"Measuring Cup Set\", \"Measuring cups, set of 5\", \"White\", \"MCS-12001\", \"Measuring Tools\", \"210\")\n",
    "]\n",
    "\n",
    "product_rows = []\n",
    "for i, (name, desc, color, prod_num, cat_name, cat_id) in enumerate(product_names, start=1):\n",
    "    list_price = round(random.uniform(10, 300), 2)\n",
    "    # StandardCost is 35% to 70% of ListPrice\n",
    "    min_cost = list_price * 0.35\n",
    "    max_cost = list_price * 0.70\n",
    "    standard_cost = round(random.uniform(min_cost, max_cost), 2)\n",
    "    product_rows.append({\n",
    "        \"ProductID\": 500 + i,  # Start ProductID from 501 as integer\n",
    "        \"ProductName\": name,\n",
    "        \"ProductDescription\": desc,\n",
    "        \"BrandName\": \"Contoso Kitchen\",\n",
    "        \"ProductNumber\": prod_num,\n",
    "        \"Color\": color,\n",
    "        \"ProductModel\": f\"Model-{i:03}\",\n",
    "        \"ProductCategoryID\": cat_id,\n",
    "        \"CategoryName\": cat_name,\n",
    "        \"ListPrice\": list_price,\n",
    "        \"StandardCost\": standard_cost,\n",
    "        \"Weight\": round(random.uniform(0.2, 5.0), 2),\n",
    "        \"WeightUom\": random.choice([\"kg\", \"lb\", \"oz\"]),\n",
    "        \"ProductStatus\": \"active\",\n",
    "        \"CreatedDate\": \"2018-01-10\",\n",
    "        \"SellStartDate\": \"2018-03-01\",\n",
    "        \"SellEndDate\": \"\",\n",
    "        \"IsoCurrencyCode\": \"USD\",\n",
    "        \"UpdatedDate\": datetime.now().strftime(\"%Y-%m-%d\"),\n",
    "        \"CreatedBy\": \"SampleGen\",\n",
    "        \"UpdatedBy\": \"SampleGen\"\n",
    "    })\n",
    "\n",
    "df_product = pd.DataFrame(product_rows)\n",
    "df_product.to_csv(product_out, index=False)\n",
    "print(f\"✅ Product sample data written to {product_out}\")"
   ]
  }
 ],
 "metadata": {
  "kernelspec": {
   "display_name": ".venv",
   "language": "python",
   "name": "python3"
  },
  "language_info": {
   "codemirror_mode": {
    "name": "ipython",
    "version": 3
   },
   "file_extension": ".py",
   "mimetype": "text/x-python",
   "name": "python",
   "nbconvert_exporter": "python",
   "pygments_lexer": "ipython3",
   "version": "3.11.9"
  }
 },
 "nbformat": 4,
 "nbformat_minor": 5
}
