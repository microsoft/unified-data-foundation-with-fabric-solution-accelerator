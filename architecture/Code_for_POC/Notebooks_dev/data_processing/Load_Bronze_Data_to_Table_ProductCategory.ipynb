{
 "cells": [
  {
   "cell_type": "markdown",
   "id": "5b276d59",
   "metadata": {},
   "source": [
    "# Load Bronze Data to Table - ProductCategory\n",
    "\n",
    "## Overview\n",
    "Load ProductCategory data from the Bronze CSV file to the Delta table in the lakehouse.\n",
    "\n",
    "## Data Flow\n",
    "- **Source**: MAAG_LH_Bronze/Files/samples_fabric/shared/ProductCategory_Samples.csv\n",
    "- **Target**: shared.ProductCategory (Delta table in lakehouse)\n",
    "- **Process**: Read CSV, validate schema, load to Delta table"
   ]
  },
  {
   "cell_type": "code",
   "execution_count": null,
   "id": "82412323",
   "metadata": {},
   "outputs": [],
   "source": [
    "import pandas as pd\n",
    "from pyspark.sql import SparkSession\n",
    "from pyspark.sql.types import *\n",
    "from pyspark.sql.functions import col, sum as spark_sum\n",
    "import os\n",
    "\n",
    "# Configuration - Using correct Fabric cross-lakehouse path from Fabric portal\n",
    "WORKSPACE_NAME = \"Fabric_MAAG\"\n",
    "SOURCE_LAKEHOUSE_NAME = \"MAAG_LH_Bronze\"\n",
    "SOURCE_PATH = f\"abfss://{WORKSPACE_NAME}@onelake.dfs.fabric.microsoft.com/{SOURCE_LAKEHOUSE_NAME}.Lakehouse/Files/samples_fabric/shared/ProductCategory_Samples.csv\"\n",
    "\n",
    "TARGET_SCHEMA = \"shared\"\n",
    "TARGET_TABLE = \"ProductCategory\"\n",
    "TARGET_FULL_PATH = f\"{TARGET_SCHEMA}.{TARGET_TABLE}\"\n",
    "\n",
    "print(f\"🔄 Loading ProductCategory data\")\n",
    "print(f\"📂 Source: {SOURCE_PATH}\")\n",
    "print(f\"🎯 Target: {TARGET_FULL_PATH}\")\n",
    "\n",
    "# Read CSV from Bronze lakehouse\n",
    "df = spark.read.option(\"header\", \"true\").option(\"inferSchema\", \"true\").csv(SOURCE_PATH)\n",
    "\n",
    "print(f\"✅ Data loaded successfully\")\n",
    "print(f\"📊 Records: {df.count()}\")\n",
    "print(f\"📋 Columns: {df.columns}\")\n",
    "\n",
    "# Display sample data\n",
    "print(f\"\\n📖 Sample data:\")\n",
    "df.show(10, truncate=False)"
   ]
  },
  {
   "cell_type": "code",
   "execution_count": null,
   "id": "825191b0",
   "metadata": {},
   "outputs": [],
   "source": [
    "# Data quality check: Nulls in key columns\n",
    "nulls = df.select(\n",
    "    spark_sum(col(\"CategoryId\").isNull().cast(\"int\")).alias(\"null_CategoryId\"),\n",
    "    spark_sum(col(\"CategoryName\").isNull().cast(\"int\")).alias(\"null_CategoryName\"),\n",
    "    spark_sum(col(\"IsActive\").isNull().cast(\"int\")).alias(\"null_IsActive\")\n",
    ").collect()[0]\n",
    "\n",
    "print(f\"🔍 Null check results:\")\n",
    "print(f\"  CategoryId nulls:   {nulls['null_CategoryId']}\")\n",
    "print(f\"  CategoryName nulls: {nulls['null_CategoryName']}\")\n",
    "print(f\"  IsActive nulls:     {nulls['null_IsActive']}\")\n",
    "\n",
    "if nulls['null_CategoryId'] > 0 or nulls['null_CategoryName'] > 0 or nulls['null_IsActive'] > 0:\n",
    "    print(f\"⚠️ Warning: Nulls found in key columns!\")\n",
    "else:\n",
    "    print(f\"✅ No nulls in key columns.\")"
   ]
  },
  {
   "cell_type": "code",
   "execution_count": null,
   "id": "f9fd1606",
   "metadata": {},
   "outputs": [],
   "source": [
    "# Write DataFrame to Delta table (overwrite mode)\n",
    "print(f\"💾 Writing data to Delta table: {TARGET_FULL_PATH}\")\n",
    "\n",
    "df.write \\\n",
    "  .format(\"delta\") \\\n",
    "  .mode(\"overwrite\") \\\n",
    "  .option(\"overwriteSchema\", \"true\") \\\n",
    "  .saveAsTable(TARGET_FULL_PATH)\n",
    "\n",
    "print(f\"✅ Data written to Delta table\")\n",
    "\n",
    "# Verify the load\n",
    "result_count = spark.sql(f\"SELECT COUNT(*) as count FROM {TARGET_FULL_PATH}\").collect()[0][\"count\"]\n",
    "print(f\"📊 Records in Delta table: {result_count}\")\n",
    "\n",
    "print(f\"\\n📖 Sample from Delta table:\")\n",
    "spark.sql(f\"SELECT * FROM {TARGET_FULL_PATH}\").show(10, truncate=False)\n",
    "\n",
    "print(f\"🎉 Bronze to Delta table load complete!\")"
   ]
  }
 ],
 "metadata": {
  "language_info": {
   "name": "python"
  }
 },
 "nbformat": 4,
 "nbformat_minor": 5
}
