{
 "cells": [
  {
   "cell_type": "markdown",
   "id": "e1c73b54",
   "metadata": {},
   "source": [
    "# Load Bronze Data to Silver Table - Customer\n",
    "\n",
    "## Overview\n",
    "Load Customer sample data from Bronze lakehouse files into Silver lakehouse table.\n",
    "\n",
    "## Data Flow\n",
    "- **Source**: MAAG_LH_Bronze/Files/samples_fabric/shared/Customer_Samples.csv\n",
    "- **Target**: MAAG_LH_Silver.shared.Customer table (or any attached default lakehouse)\n",
    "- **Process**: Read CSV, validate schema, load to Delta table\n",
    "\n",
    "---"
   ]
  },
  {
   "cell_type": "code",
   "execution_count": 11,
   "id": "b9a8ab0b",
   "metadata": {
    "microsoft": {
     "language": "python",
     "language_group": "synapse_pyspark"
    }
   },
   "outputs": [
    {
     "data": {
      "application/vnd.livy.statement-meta+json": {
       "execution_finish_time": "2025-08-11T15:44:18.9097131Z",
       "execution_start_time": "2025-08-11T15:44:17.3611762Z",
       "livy_statement_state": "available",
       "normalized_state": "finished",
       "parent_msg_id": "f5a38314-d88f-4e2b-9b4f-de10404368e3",
       "queued_time": "2025-08-11T15:44:17.3600798Z",
       "session_id": "f96becee-86e7-43cc-aeae-7462a83d16d6",
       "session_start_time": null,
       "spark_pool": null,
       "state": "finished",
       "statement_id": 13,
       "statement_ids": [
        13
       ]
      },
      "text/plain": [
       "StatementMeta(, f96becee-86e7-43cc-aeae-7462a83d16d6, 13, Finished, Available, Finished)"
      ]
     },
     "metadata": {},
     "output_type": "display_data"
    },
    {
     "name": "stdout",
     "output_type": "stream",
     "text": [
      "🔄 Loading Customer data\n",
      "📂 Source: abfss://Fabric_MAAG@onelake.dfs.fabric.microsoft.com/MAAG_LH_Bronze.Lakehouse/Files/samples_fabric/shared/Customer_Samples.csv\n",
      "🎯 Target: shared.Customer\n",
      "✅ Data loaded successfully\n",
      "📊 Records: 513\n",
      "📋 Columns: ['CustomerId', 'CustomerTypeId', 'CustomerRelationshipTypeId', 'DateOfBirth', 'CustomerEstablishedDate', 'IsActive', 'FirstName', 'LastName', 'Gender', 'PrimaryPhone', 'SecondaryPhone', 'PrimaryEmail', 'SecondaryEmail', 'CreatedBy']\n",
      "\n",
      "📖 Sample data:\n",
      "+----------+--------------+--------------------------+-----------+-----------------------+--------+---------+---------+------+--------------+--------------+---------------------+--------------+---------+\n",
      "|CustomerId|CustomerTypeId|CustomerRelationshipTypeId|DateOfBirth|CustomerEstablishedDate|IsActive|FirstName|LastName |Gender|PrimaryPhone  |SecondaryPhone|PrimaryEmail         |SecondaryEmail|CreatedBy|\n",
      "+----------+--------------+--------------------------+-----------+-----------------------+--------+---------+---------+------+--------------+--------------+---------------------+--------------+---------+\n",
      "|CID-001   |Individual    |VIP                       |1960-03-18 |2021-02-08             |true    |Tsehayetu|Abera    |Female|(985) 555-0158|NULL          |tsehayetu@contoso.com|NULL          |Sales    |\n",
      "|CID-002   |Government    |Local                     |1960-01-14 |2018-05-19             |false   |Antra    |Abola    |Female|(765) 555-0191|(470) 555-0206|antra@contoso.com    |NULL          |Services |\n",
      "|CID-003   |Business      |SMB                       |1964-12-28 |2020-09-22             |true    |Ida      |Abolina  |Female|(717) 555-0103|NULL          |ida@contoso.com      |NULL          |Sales    |\n",
      "|CID-004   |Individual    |Standard                  |1996-05-11 |2019-03-11             |true    |Deniz    |Acar     |Male  |(952) 555-0195|NULL          |deniz@contoso.com    |NULL          |Sales    |\n",
      "|CID-005   |Individual    |Premium                   |1976-12-07 |2019-05-24             |true    |Guner    |Aktas    |Male  |(843) 555-0165|NULL          |guner@contoso.com    |NULL          |Sales    |\n",
      "|CID-006   |Individual    |VIP                       |1950-04-29 |2018-09-30             |true    |Danaite  |Alemseged|Female|(959) 555-0102|NULL          |danaite@contoso.com  |NULL          |Sales    |\n",
      "|CID-007   |Individual    |Standard                  |1986-02-01 |2021-01-27             |true    |Asmerom  |Ambaye   |Male  |(860) 555-0107|(701) 555-0262|asmerom@contoso.com  |NULL          |Sales    |\n",
      "|CID-008   |Business      |SMB                       |1957-12-30 |2018-04-14             |true    |Kiana    |Anderson |Female|(941) 555-0114|NULL          |kiana@contoso.com    |NULL          |Sales    |\n",
      "|CID-009   |Individual    |Standard                  |1964-10-02 |2021-05-22             |false   |Jakob    |Anhalt   |Male  |(657) 555-0130|NULL          |jakob@contoso.com    |NULL          |Sales    |\n",
      "|CID-010   |Business      |Partner                   |1986-02-03 |2020-02-01             |true    |Elisabeth|Arcouet  |Female|(740) 555-0144|NULL          |elisabeth@contoso.com|NULL          |Sales    |\n",
      "+----------+--------------+--------------------------+-----------+-----------------------+--------+---------+---------+------+--------------+--------------+---------------------+--------------+---------+\n",
      "only showing top 10 rows\n",
      "\n"
     ]
    }
   ],
   "source": [
    "import pandas as pd\n",
    "from pyspark.sql import SparkSession\n",
    "from pyspark.sql.types import *\n",
    "from pyspark.sql.functions import col, sum as spark_sum\n",
    "import os\n",
    "\n",
    "# Configuration - Using correct Fabric cross-lakehouse path from Fabric portal\n",
    "WORKSPACE_NAME = \"Fabric_MAAG\"\n",
    "SOURCE_LAKEHOUSE_NAME = \"MAAG_LH_Bronze\"\n",
    "SOURCE_PATH = f\"abfss://{WORKSPACE_NAME}@onelake.dfs.fabric.microsoft.com/{SOURCE_LAKEHOUSE_NAME}.Lakehouse/Files/samples_fabric/shared/Customer_Samples.csv\"\n",
    "\n",
    "TARGET_SCHEMA = \"shared\"\n",
    "TARGET_TABLE = \"Customer\"\n",
    "TARGET_FULL_PATH = f\"{TARGET_SCHEMA}.{TARGET_TABLE}\"\n",
    "\n",
    "print(f\"🔄 Loading Customer data\")\n",
    "print(f\"📂 Source: {SOURCE_PATH}\")\n",
    "print(f\"🎯 Target: {TARGET_FULL_PATH}\")\n",
    "\n",
    "# Read CSV from Bronze lakehouse\n",
    "df = spark.read.option(\"header\", \"true\").option(\"inferSchema\", \"true\").csv(SOURCE_PATH)\n",
    "\n",
    "print(f\"✅ Data loaded successfully\")\n",
    "print(f\"📊 Records: {df.count()}\")\n",
    "print(f\"📋 Columns: {df.columns}\")\n",
    "\n",
    "# Display sample data\n",
    "print(f\"\\n📖 Sample data:\")\n",
    "df.show(10, truncate=False)"
   ]
  },
  {
   "cell_type": "code",
   "execution_count": 10,
   "id": "1e3b74ba",
   "metadata": {
    "microsoft": {
     "language": "python",
     "language_group": "synapse_pyspark"
    }
   },
   "outputs": [
    {
     "data": {
      "application/vnd.livy.statement-meta+json": {
       "execution_finish_time": "2025-08-11T15:43:42.8652242Z",
       "execution_start_time": "2025-08-11T15:43:42.0651439Z",
       "livy_statement_state": "available",
       "normalized_state": "finished",
       "parent_msg_id": "c16af655-0a04-4e03-8931-44d624c72a28",
       "queued_time": "2025-08-11T15:43:42.0640103Z",
       "session_id": "f96becee-86e7-43cc-aeae-7462a83d16d6",
       "session_start_time": null,
       "spark_pool": null,
       "state": "finished",
       "statement_id": 12,
       "statement_ids": [
        12
       ]
      },
      "text/plain": [
       "StatementMeta(, f96becee-86e7-43cc-aeae-7462a83d16d6, 12, Finished, Available, Finished)"
      ]
     },
     "metadata": {},
     "output_type": "display_data"
    },
    {
     "name": "stdout",
     "output_type": "stream",
     "text": [
      "🔍 Validating data quality...\n",
      "✅ Schema reference (required_columns) retained for documentation/model awareness.\n",
      "⚠️ Warning: Missing columns in source data: ['CustomerNamePrefix', 'MiddleName', 'CustomerNote']\n",
      "✅ Schema validation complete (no error raised for missing columns).\n",
      "\n",
      "📊 Data Quality Check:\n",
      "  CustomerId: ✅ No nulls\n",
      "  CustomerTypeId: ✅ No nulls\n",
      "  CustomerRelationshipTypeId: ✅ No nulls\n",
      "  DateOfBirth: ✅ No nulls\n",
      "  CustomerEstablishedDate: ✅ No nulls\n",
      "  IsActive: ✅ No nulls\n",
      "  FirstName: ✅ No nulls\n",
      "  LastName: ✅ No nulls\n",
      "  Gender: ✅ No nulls\n",
      "  PrimaryPhone: ✅ No nulls\n",
      "  SecondaryPhone: 379 null values\n",
      "  PrimaryEmail: ✅ No nulls\n",
      "  SecondaryEmail: 433 null values\n",
      "  CreatedBy: ✅ No nulls\n",
      "  UpdatedBy: ✅ No nulls\n",
      "\n",
      "🎯 CustomerTypeId Distribution:\n",
      "+--------------+-----+\n",
      "|CustomerTypeId|count|\n",
      "+--------------+-----+\n",
      "|      Business|  102|\n",
      "|    Government|   58|\n",
      "|    Individual|  353|\n",
      "+--------------+-----+\n",
      "\n"
     ]
    }
   ],
   "source": [
    "# Validate and conform to target schema\n",
    "print(f\"🔍 Validating data quality...\")\n",
    "\n",
    "# Required columns from Model_Shared_Data.ipynb Customer table\n",
    "required_columns = [\n",
    "    \"CustomerId\", \"CustomerTypeId\", \"IsActive\", \"CustomerNamePrefix\", \"FirstName\", \"LastName\", \"MiddleName\",\n",
    "    \"Gender\", \"DateOfBirth\", \"PrimaryPhone\", \"SecondaryPhone\", \"PrimaryEmail\", \"SecondaryEmail\",\n",
    "    \"CustomerEstablishedDate\", \"CustomerRelationshipTypeId\", \"CustomerNote\", \"CreatedBy\", \"UpdatedBy\"\n",
    "]\n",
    "\n",
    "# Only add/populate UpdatedBy if missing\n",
    "from pyspark.sql import functions as F\n",
    "if \"UpdatedBy\" not in df.columns:\n",
    "    df = df.withColumn(\"UpdatedBy\", F.lit(\"Source_Data_Loader\"))\n",
    "    print(\"✅ Added UpdatedBy column with value 'Source_Data_Loader'.\")\n",
    "\n",
    "print(f\"✅ Schema reference (required_columns) retained for documentation/model awareness.\")\n",
    "\n",
    "missing_columns = [c for c in required_columns if c not in df.columns]\n",
    "if missing_columns:\n",
    "    print(f\"⚠️ Warning: Missing columns in source data: {missing_columns}\")\n",
    "else:\n",
    "    print(f\"✅ All required columns present in source data.\")\n",
    "\n",
    "print(f\"✅ Schema validation complete (no error raised for missing columns).\")\n",
    "\n",
    "# Data quality checks\n",
    "null_counts = df.select([spark_sum(col(c).isNull().cast(\"int\")).alias(c) for c in df.columns]).collect()[0]\n",
    "print(f\"\\n📊 Data Quality Check:\")\n",
    "for col_name in df.columns:\n",
    "    null_count = null_counts[col_name]\n",
    "    if null_count > 0:\n",
    "        print(f\"  {col_name}: {null_count} null values\")\n",
    "    else:\n",
    "        print(f\"  {col_name}: ✅ No nulls\")\n",
    "\n",
    "# Show value distributions for CustomerTypeId\n",
    "print(f\"\\n🎯 CustomerTypeId Distribution:\")\n",
    "df.groupBy(\"CustomerTypeId\").count().orderBy(\"CustomerTypeId\").show()"
   ]
  },
  {
   "cell_type": "code",
   "execution_count": 12,
   "id": "9e4b9594",
   "metadata": {
    "microsoft": {
     "language": "python",
     "language_group": "synapse_pyspark"
    }
   },
   "outputs": [
    {
     "data": {
      "application/vnd.livy.statement-meta+json": {
       "execution_finish_time": "2025-08-11T15:45:07.8142207Z",
       "execution_start_time": "2025-08-11T15:44:47.0594435Z",
       "livy_statement_state": "available",
       "normalized_state": "finished",
       "parent_msg_id": "c442e695-aca2-4728-bdcb-574ee1cb637b",
       "queued_time": "2025-08-11T15:44:47.0581545Z",
       "session_id": "f96becee-86e7-43cc-aeae-7462a83d16d6",
       "session_start_time": null,
       "spark_pool": null,
       "state": "finished",
       "statement_id": 14,
       "statement_ids": [
        14
       ]
      },
      "text/plain": [
       "StatementMeta(, f96becee-86e7-43cc-aeae-7462a83d16d6, 14, Finished, Available, Finished)"
      ]
     },
     "metadata": {},
     "output_type": "display_data"
    },
    {
     "name": "stdout",
     "output_type": "stream",
     "text": [
      "💾 Loading data to Silver table: shared.Customer\n",
      "✅ Data loaded successfully to shared.Customer\n",
      "📊 Records in target table: 513\n",
      "\n",
      "📖 Sample from Silver table:\n",
      "+----------+--------------+--------------------------+-----------+-----------------------+--------+---------+---------+------+--------------+--------------+---------------------+--------------+---------+\n",
      "|CustomerId|CustomerTypeId|CustomerRelationshipTypeId|DateOfBirth|CustomerEstablishedDate|IsActive|FirstName|LastName |Gender|PrimaryPhone  |SecondaryPhone|PrimaryEmail         |SecondaryEmail|CreatedBy|\n",
      "+----------+--------------+--------------------------+-----------+-----------------------+--------+---------+---------+------+--------------+--------------+---------------------+--------------+---------+\n",
      "|CID-001   |Individual    |VIP                       |1960-03-18 |2021-02-08             |true    |Tsehayetu|Abera    |Female|(985) 555-0158|NULL          |tsehayetu@contoso.com|NULL          |Sales    |\n",
      "|CID-002   |Government    |Local                     |1960-01-14 |2018-05-19             |false   |Antra    |Abola    |Female|(765) 555-0191|(470) 555-0206|antra@contoso.com    |NULL          |Services |\n",
      "|CID-003   |Business      |SMB                       |1964-12-28 |2020-09-22             |true    |Ida      |Abolina  |Female|(717) 555-0103|NULL          |ida@contoso.com      |NULL          |Sales    |\n",
      "|CID-004   |Individual    |Standard                  |1996-05-11 |2019-03-11             |true    |Deniz    |Acar     |Male  |(952) 555-0195|NULL          |deniz@contoso.com    |NULL          |Sales    |\n",
      "|CID-005   |Individual    |Premium                   |1976-12-07 |2019-05-24             |true    |Guner    |Aktas    |Male  |(843) 555-0165|NULL          |guner@contoso.com    |NULL          |Sales    |\n",
      "|CID-006   |Individual    |VIP                       |1950-04-29 |2018-09-30             |true    |Danaite  |Alemseged|Female|(959) 555-0102|NULL          |danaite@contoso.com  |NULL          |Sales    |\n",
      "|CID-007   |Individual    |Standard                  |1986-02-01 |2021-01-27             |true    |Asmerom  |Ambaye   |Male  |(860) 555-0107|(701) 555-0262|asmerom@contoso.com  |NULL          |Sales    |\n",
      "|CID-008   |Business      |SMB                       |1957-12-30 |2018-04-14             |true    |Kiana    |Anderson |Female|(941) 555-0114|NULL          |kiana@contoso.com    |NULL          |Sales    |\n",
      "|CID-009   |Individual    |Standard                  |1964-10-02 |2021-05-22             |false   |Jakob    |Anhalt   |Male  |(657) 555-0130|NULL          |jakob@contoso.com    |NULL          |Sales    |\n",
      "|CID-010   |Business      |Partner                   |1986-02-03 |2020-02-01             |true    |Elisabeth|Arcouet  |Female|(740) 555-0144|NULL          |elisabeth@contoso.com|NULL          |Sales    |\n",
      "+----------+--------------+--------------------------+-----------+-----------------------+--------+---------+---------+------+--------------+--------------+---------------------+--------------+---------+\n",
      "only showing top 10 rows\n",
      "\n",
      "🎉 Customer data load complete!\n"
     ]
    }
   ],
   "source": [
    "# Load data to Silver table\n",
    "print(f\"💾 Loading data to Silver table: {TARGET_FULL_PATH}\")\n",
    "\n",
    "try:\n",
    "    df.write \\\n",
    "      .format(\"delta\") \\\n",
    "      .mode(\"overwrite\") \\\n",
    "      .option(\"overwriteSchema\", \"true\") \\\n",
    "      .saveAsTable(TARGET_FULL_PATH)\n",
    "\n",
    "    print(f\"✅ Data loaded successfully to {TARGET_FULL_PATH}\")\n",
    "\n",
    "    # Verify the load\n",
    "    result_count = spark.sql(f\"SELECT COUNT(*) as count FROM {TARGET_FULL_PATH}\").collect()[0][\"count\"]\n",
    "    print(f\"📊 Records in target table: {result_count}\")\n",
    "\n",
    "    # Show sample of loaded data\n",
    "    print(f\"\\n📖 Sample from Silver table:\")\n",
    "    spark.sql(f\"SELECT * FROM {TARGET_FULL_PATH} ORDER BY CustomerId\").show(10, truncate=False)\n",
    "\n",
    "    print(f\"🎉 Customer data load complete!\")\n",
    "\n",
    "except Exception as e:\n",
    "    print(f\"❌ Error loading data to table: {str(e)}\")\n",
    "    raise"
   ]
  }
 ],
 "metadata": {
  "dependencies": {
   "lakehouse": {
    "default_lakehouse": "1acd48dc-8b9d-4f55-ae21-a60a67b20bf4",
    "default_lakehouse_name": "MAAG_LH_Silver",
    "default_lakehouse_workspace_id": "e1e9b2bb-4338-4ab7-86fc-28098538ede0",
    "known_lakehouses": [
     {
      "id": "1acd48dc-8b9d-4f55-ae21-a60a67b20bf4"
     },
     {
      "id": "e41f88e7-826c-45bd-9dcb-83807a2d1a6a"
     }
    ]
   }
  },
  "kernel_info": {
   "name": "synapse_pyspark"
  },
  "language_info": {
   "name": "python"
  },
  "microsoft": {
   "language": "python",
   "language_group": "synapse_pyspark",
   "ms_spell_check": {
    "ms_spell_check_language": "en"
   }
  },
  "nteract": {
   "version": "nteract-front-end@1.0.0"
  },
  "spark_compute": {
   "compute_id": "/trident/default",
   "session_options": {
    "conf": {
     "spark.synapse.nbs.session.timeout": "1200000"
    }
   }
  }
 },
 "nbformat": 4,
 "nbformat_minor": 5
}
