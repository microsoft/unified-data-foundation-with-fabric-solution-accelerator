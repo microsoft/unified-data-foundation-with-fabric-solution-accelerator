{
 "cells": [
  {
   "cell_type": "code",
   "execution_count": 1,
   "id": "a9093029-6738-4e87-b11c-11a419714197",
   "metadata": {
    "microsoft": {
     "language": "python",
     "language_group": "synapse_pyspark"
    }
   },
   "outputs": [
    {
     "data": {
      "application/vnd.livy.statement-meta+json": {
       "execution_finish_time": "2025-08-18T20:59:50.0955364Z",
       "execution_start_time": "2025-08-18T20:59:38.1726486Z",
       "livy_statement_state": "available",
       "normalized_state": "finished",
       "parent_msg_id": "1865b9ca-1acc-41bc-94b9-bd343395dc0a",
       "queued_time": "2025-08-18T20:59:38.1715267Z",
       "session_id": "af679c5c-479c-43d0-bd77-9fad0d5a8f30",
       "session_start_time": null,
       "spark_pool": null,
       "state": "finished",
       "statement_id": 4,
       "statement_ids": [
        4
       ]
      },
      "text/plain": [
       "StatementMeta(, af679c5c-479c-43d0-bd77-9fad0d5a8f30, 4, Finished, Available, Finished)"
      ]
     },
     "metadata": {},
     "output_type": "display_data"
    },
    {
     "name": "stdout",
     "output_type": "stream",
     "text": [
      "🔨 Truncating shared.product ...\n"
     ]
    },
    {
     "name": "stdout",
     "output_type": "stream",
     "text": [
      "✅ shared.product truncated!\n"
     ]
    }
   ],
   "source": [
    "# Truncate a single table\n",
    "schema_name = \"shared\"\n",
    "table_name = \"product\"  # Change to your table\n",
    "\n",
    "print(f\"🔨 Truncating {schema_name}.{table_name} ...\")\n",
    "spark.sql(f\"TRUNCATE TABLE {schema_name}.{table_name}\")\n",
    "print(f\"✅ {schema_name}.{table_name} truncated!\")"
   ]
  },
  {
   "cell_type": "code",
   "execution_count": null,
   "id": "055676d9-4f25-4629-b18f-0c22f9133462",
   "metadata": {
    "microsoft": {
     "language": "python",
     "language_group": "synapse_pyspark"
    }
   },
   "outputs": [],
   "source": [
    "# Truncate a group of tables\n",
    "schema_name = \"shared\"\n",
    "tables = [\n",
    "    \"customer\",\n",
    "    \"customertradename\",\n",
    "    \"customerrelationshiptype\",\n",
    "    \"location\",\n",
    "    \"customeraccount\",\n",
    "    \"product\",\n",
    "    \"productcategory\"\n",
    "]\n",
    "\n",
    "for table in tables:\n",
    "    print(f\"🔨 Truncating {schema_name}.{table} ...\")\n",
    "    spark.sql(f\"TRUNCATE TABLE {schema_name}.{table}\")\n",
    "    print(f\"✅ {schema_name}.{table} truncated!\")\n",
    "\n",
    "print(f\"\\n🎉 ALL SELECTED TABLES TRUNCATED!\")"
   ]
  },
  {
   "cell_type": "code",
   "execution_count": null,
   "id": "b1e06d31",
   "metadata": {},
   "outputs": [],
   "source": [
    "# Truncate a group of tables\n",
    "schema_name = \"sales\"\n",
    "tables = [\n",
    "    \"order\",\n",
    "    \"orderline\",\n",
    "    \"orderpayment\"\n",
    "]\n",
    "\n",
    "for table in tables:\n",
    "    print(f\"🔨 Truncating {schema_name}.{table} ...\")\n",
    "    spark.sql(f\"TRUNCATE TABLE {schema_name}.{table}\")\n",
    "    print(f\"✅ {schema_name}.{table} truncated!\")"
   ]
  },
  {
   "cell_type": "code",
   "execution_count": null,
   "id": "05d025d1-bc4b-4595-91a3-6d35177f6943",
   "metadata": {
    "microsoft": {
     "language": "python",
     "language_group": "synapse_pyspark"
    }
   },
   "outputs": [
    {
     "data": {
      "application/vnd.livy.statement-meta+json": {
       "execution_finish_time": "2025-08-18T21:41:24.3107143Z",
       "execution_start_time": "2025-08-18T21:41:22.7376042Z",
       "livy_statement_state": "available",
       "normalized_state": "finished",
       "parent_msg_id": "62bcc092-189c-4e21-bd6b-48b39db8633c",
       "queued_time": "2025-08-18T21:41:22.7364175Z",
       "session_id": "41e5e94c-049d-45bb-8f15-88546c5e57df",
       "session_start_time": null,
       "spark_pool": null,
       "state": "finished",
       "statement_id": 4,
       "statement_ids": [
        4
       ]
      },
      "text/plain": [
       "StatementMeta(, 41e5e94c-049d-45bb-8f15-88546c5e57df, 4, Finished, Available, Finished)"
      ]
     },
     "metadata": {},
     "output_type": "display_data"
    },
    {
     "name": "stdout",
     "output_type": "stream",
     "text": [
      "🗑️ Dropping shared.product_test ...\n"
     ]
    },
    {
     "name": "stdout",
     "output_type": "stream",
     "text": [
      "✅ shared.product_test dropped!\n"
     ]
    }
   ],
   "source": [
    "# Drop a single table\n",
    "schema_name = \"shared\"\n",
    "table_name = \"product_test\"  # Change to your table\n",
    "\n",
    "print(f\"🗑️ Dropping {schema_name}.{table_name} ...\")\n",
    "spark.sql(f\"DROP TABLE IF EXISTS {schema_name}.{table_name}\")\n",
    "print(f\"✅ {schema_name}.{table_name} dropped!\")"
   ]
  },
  {
   "cell_type": "code",
   "execution_count": null,
   "id": "b6046a83-dc18-4113-9f99-402513b8623a",
   "metadata": {
    "microsoft": {
     "language": "python",
     "language_group": "synapse_pyspark"
    }
   },
   "outputs": [],
   "source": [
    "# Drop a group of tables\n",
    "schema_name = \"shared\"\n",
    "tables = [\n",
    "    \"customer\",\n",
    "    \"customertradename\",\n",
    "    \"customerrelationshiptype\",\n",
    "    \"location\",\n",
    "    \"customeraccount\",\n",
    "    \"product\",\n",
    "    \"productcategory\"\n",
    "]\n",
    "\n",
    "for table in tables:\n",
    "    print(f\"🗑️ Dropping {schema_name}.{table} ...\")\n",
    "    spark.sql(f\"DROP TABLE IF EXISTS {schema_name}.{table}\")\n",
    "    print(f\"✅ {schema_name}.{table} dropped!\")\n",
    "\n",
    "print(f\"\\n🎉 ALL SELECTED TABLES DROPPED!\")"
   ]
  },
  {
   "cell_type": "markdown",
   "id": "29e3ab9a-6dca-41cc-9f29-54bad59b1da1",
   "metadata": {
    "microsoft": {
     "language": "python",
     "language_group": "synapse_pyspark"
    },
    "nteract": {
     "transient": {
      "deleting": false
     }
    }
   },
   "source": []
  },
  {
   "cell_type": "code",
   "execution_count": null,
   "id": "2851c5ff",
   "metadata": {},
   "outputs": [],
   "source": [
    "# Drop a group of tables\n",
    "schema_name = \"sales\"\n",
    "tables = [\n",
    "    \"order\",\n",
    "    \"orderline\",\n",
    "    \"orderpayment\"\n",
    "]\n",
    "for table in tables:\n",
    "    print(f\"🗑️ Dropping {schema_name}.{table} ...\")\n",
    "    spark.sql(f\"DROP TABLE IF EXISTS {schema_name}.{table}\")\n",
    "    print(f\"✅ {schema_name}.{table} dropped!\")\n",
    "\n",
    "print(f\"\\n🎉 ALL SELECTED TABLES DROPPED!\")"
   ]
  }
 ],
 "metadata": {
  "dependencies": {
   "lakehouse": {
    "default_lakehouse": "0bb08fa5-8a0c-4303-b472-c5c489ef95b8",
    "default_lakehouse_name": "MAAG_LH_Gold",
    "default_lakehouse_workspace_id": "e1e9b2bb-4338-4ab7-86fc-28098538ede0",
    "known_lakehouses": [
     {
      "id": "0bb08fa5-8a0c-4303-b472-c5c489ef95b8"
     }
    ]
   }
  },
  "kernel_info": {
   "name": "synapse_pyspark"
  },
  "kernelspec": {
   "display_name": "synapse_pyspark",
   "name": "synapse_pyspark"
  },
  "language_info": {
   "name": "python"
  },
  "microsoft": {
   "language": "python",
   "language_group": "synapse_pyspark",
   "ms_spell_check": {
    "ms_spell_check_language": "en"
   }
  },
  "nteract": {
   "version": "nteract-front-end@1.0.0"
  },
  "spark_compute": {
   "compute_id": "/trident/default",
   "session_options": {
    "conf": {
     "spark.synapse.nbs.session.timeout": "1200000"
    }
   }
  }
 },
 "nbformat": 4,
 "nbformat_minor": 5
}
