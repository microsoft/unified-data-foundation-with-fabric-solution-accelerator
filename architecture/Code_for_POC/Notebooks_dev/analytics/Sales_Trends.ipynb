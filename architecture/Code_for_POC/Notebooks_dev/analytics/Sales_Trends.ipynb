{
 "cells": [
  {
   "cell_type": "markdown",
   "id": "86cf161a",
   "metadata": {},
   "source": [
    "# Sales Trends by Year\n",
    "\n",
    "This notebook calculates total sales for each year (2019-2025) using the Order table and visualizes the results."
   ]
  },
  {
   "cell_type": "code",
   "execution_count": null,
   "id": "244df229",
   "metadata": {},
   "outputs": [],
   "source": []
  },
  {
   "cell_type": "code",
   "execution_count": null,
   "id": "e983c391",
   "metadata": {},
   "outputs": [],
   "source": [
    "import pandas as pd\n",
    "from pyspark.sql.functions import col, sum as spark_sum, year\n",
    "\n",
    "# Configuration\n",
    "WORKSPACE_NAME = \"Fabric_MAAG\"\n",
    "SOURCE_LAKEHOUSE_NAME = \"MAAG_LH_Silver\"\n",
    "SOURCE_SCHEMA = \"sales\"\n",
    "SOURCE_TABLE = \"order\"\n",
    "\n",
    "SOURCE_TABLE_PATH = f\"abfss://{WORKSPACE_NAME}@onelake.dfs.fabric.microsoft.com/{SOURCE_LAKEHOUSE_NAME}.Lakehouse/Tables/{SOURCE_SCHEMA}/{SOURCE_TABLE}\"\n",
    "\n",
    "# Read Order table from lakehouse\n",
    "df = spark.read.format(\"delta\").load(SOURCE_TABLE_PATH)\n",
    "\n",
    "# Extract year from OrderDate\n",
    "df = df.withColumn(\"Year\", year(col(\"OrderDate\")))\n",
    "\n",
    "# Aggregate total sales by year, exclude 2025\n",
    "sales_by_year = (\n",
    "    df.groupBy(\"Year\")\n",
    "      .agg(spark_sum(col(\"OrderTotal\")).alias(\"TotalSales\"))\n",
    "      .orderBy(\"Year\")\n",
    "      .filter(col(\"Year\") < 2025)\n",
    ")\n",
    "\n",
    "pdf = sales_by_year.toPandas()\n",
    "\n",
    "print(\"Total sales by year (excluding 2025):\")\n",
    "print(pdf)\n",
    "\n",
    "# Plot sales trends\n",
    "import matplotlib.pyplot as plt\n",
    "from matplotlib.ticker import FuncFormatter\n",
    "\n",
    "plt.figure(figsize=(10, 5))\n",
    "plt.plot(pdf[\"Year\"], pdf[\"TotalSales\"], marker='o')\n",
    "plt.title(\"Total Sales by Year (2019-2024)\")\n",
    "plt.xlabel(\"Year\")\n",
    "plt.ylabel(\"Total Sales (Thousands)\")\n",
    "plt.grid(True)\n",
    "plt.gca().yaxis.set_major_formatter(FuncFormatter(lambda x, _: f'{int(x/1000):,}K'))\n",
    "plt.tight_layout()\n",
    "plt.show()"
   ]
  }
 ],
 "metadata": {
  "language_info": {
   "name": "python"
  }
 },
 "nbformat": 4,
 "nbformat_minor": 5
}
